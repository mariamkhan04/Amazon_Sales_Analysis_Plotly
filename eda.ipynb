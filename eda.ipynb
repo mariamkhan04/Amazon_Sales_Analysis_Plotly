{
 "cells": [
  {
   "cell_type": "markdown",
   "metadata": {},
   "source": [
    "## **Amazon Sales Data Analysis: Insights into Product Ratings, Pricing, and Customer Reviews**\n",
    "\n",
    "### **Project Objective:**\n",
    "To analyze the Amazon Sales Dataset to uncover insights about product ratings, pricing, discounts, and customer reviews across different categories. The analysis will help identify trends, popular products, and factors influencing customer satisfaction."
   ]
  },
  {
   "cell_type": "markdown",
   "metadata": {},
   "source": [
    "### **Import Libraries**"
   ]
  },
  {
   "cell_type": "code",
   "execution_count": 110,
   "metadata": {},
   "outputs": [],
   "source": [
    "import pandas as pd\n",
    "import numpy as np\n",
    "import plotly.express as px\n",
    "import plotly.graph_objects as go"
   ]
  },
  {
   "cell_type": "code",
   "execution_count": 111,
   "metadata": {},
   "outputs": [
    {
     "data": {
      "text/html": [
       "<div>\n",
       "<style scoped>\n",
       "    .dataframe tbody tr th:only-of-type {\n",
       "        vertical-align: middle;\n",
       "    }\n",
       "\n",
       "    .dataframe tbody tr th {\n",
       "        vertical-align: top;\n",
       "    }\n",
       "\n",
       "    .dataframe thead th {\n",
       "        text-align: right;\n",
       "    }\n",
       "</style>\n",
       "<table border=\"1\" class=\"dataframe\">\n",
       "  <thead>\n",
       "    <tr style=\"text-align: right;\">\n",
       "      <th></th>\n",
       "      <th>product_id</th>\n",
       "      <th>product_name</th>\n",
       "      <th>category</th>\n",
       "      <th>discounted_price</th>\n",
       "      <th>actual_price</th>\n",
       "      <th>discount_percentage</th>\n",
       "      <th>rating</th>\n",
       "      <th>rating_count</th>\n",
       "      <th>about_product</th>\n",
       "      <th>user_id</th>\n",
       "      <th>user_name</th>\n",
       "      <th>review_id</th>\n",
       "      <th>review_title</th>\n",
       "      <th>review_content</th>\n",
       "      <th>img_link</th>\n",
       "      <th>product_link</th>\n",
       "    </tr>\n",
       "  </thead>\n",
       "  <tbody>\n",
       "    <tr>\n",
       "      <th>0</th>\n",
       "      <td>B07JW9H4J1</td>\n",
       "      <td>Wayona Nylon Braided USB to Lightning Fast Cha...</td>\n",
       "      <td>Computers&amp;Accessories|Accessories&amp;Peripherals|...</td>\n",
       "      <td>₹399</td>\n",
       "      <td>₹1,099</td>\n",
       "      <td>64%</td>\n",
       "      <td>4.2</td>\n",
       "      <td>24,269</td>\n",
       "      <td>High Compatibility : Compatible With iPhone 12...</td>\n",
       "      <td>AG3D6O4STAQKAY2UVGEUV46KN35Q,AHMY5CWJMMK5BJRBB...</td>\n",
       "      <td>Manav,Adarsh gupta,Sundeep,S.Sayeed Ahmed,jasp...</td>\n",
       "      <td>R3HXWT0LRP0NMF,R2AJM3LFTLZHFO,R6AQJGUP6P86,R1K...</td>\n",
       "      <td>Satisfied,Charging is really fast,Value for mo...</td>\n",
       "      <td>Looks durable Charging is fine tooNo complains...</td>\n",
       "      <td>https://m.media-amazon.com/images/W/WEBP_40237...</td>\n",
       "      <td>https://www.amazon.in/Wayona-Braided-WN3LG1-Sy...</td>\n",
       "    </tr>\n",
       "    <tr>\n",
       "      <th>1</th>\n",
       "      <td>B098NS6PVG</td>\n",
       "      <td>Ambrane Unbreakable 60W / 3A Fast Charging 1.5...</td>\n",
       "      <td>Computers&amp;Accessories|Accessories&amp;Peripherals|...</td>\n",
       "      <td>₹199</td>\n",
       "      <td>₹349</td>\n",
       "      <td>43%</td>\n",
       "      <td>4.0</td>\n",
       "      <td>43,994</td>\n",
       "      <td>Compatible with all Type C enabled devices, be...</td>\n",
       "      <td>AECPFYFQVRUWC3KGNLJIOREFP5LQ,AGYYVPDD7YG7FYNBX...</td>\n",
       "      <td>ArdKn,Nirbhay kumar,Sagar Viswanathan,Asp,Plac...</td>\n",
       "      <td>RGIQEG07R9HS2,R1SMWZQ86XIN8U,R2J3Y1WL29GWDE,RY...</td>\n",
       "      <td>A Good Braided Cable for Your Type C Device,Go...</td>\n",
       "      <td>I ordered this cable to connect my phone to An...</td>\n",
       "      <td>https://m.media-amazon.com/images/W/WEBP_40237...</td>\n",
       "      <td>https://www.amazon.in/Ambrane-Unbreakable-Char...</td>\n",
       "    </tr>\n",
       "    <tr>\n",
       "      <th>2</th>\n",
       "      <td>B096MSW6CT</td>\n",
       "      <td>Sounce Fast Phone Charging Cable &amp; Data Sync U...</td>\n",
       "      <td>Computers&amp;Accessories|Accessories&amp;Peripherals|...</td>\n",
       "      <td>₹199</td>\n",
       "      <td>₹1,899</td>\n",
       "      <td>90%</td>\n",
       "      <td>3.9</td>\n",
       "      <td>7,928</td>\n",
       "      <td>【 Fast Charger&amp; Data Sync】-With built-in safet...</td>\n",
       "      <td>AGU3BBQ2V2DDAMOAKGFAWDDQ6QHA,AESFLDV2PT363T2AQ...</td>\n",
       "      <td>Kunal,Himanshu,viswanath,sai niharka,saqib mal...</td>\n",
       "      <td>R3J3EQQ9TZI5ZJ,R3E7WBGK7ID0KV,RWU79XKQ6I1QF,R2...</td>\n",
       "      <td>Good speed for earlier versions,Good Product,W...</td>\n",
       "      <td>Not quite durable and sturdy,https://m.media-a...</td>\n",
       "      <td>https://m.media-amazon.com/images/W/WEBP_40237...</td>\n",
       "      <td>https://www.amazon.in/Sounce-iPhone-Charging-C...</td>\n",
       "    </tr>\n",
       "    <tr>\n",
       "      <th>3</th>\n",
       "      <td>B08HDJ86NZ</td>\n",
       "      <td>boAt Deuce USB 300 2 in 1 Type-C &amp; Micro USB S...</td>\n",
       "      <td>Computers&amp;Accessories|Accessories&amp;Peripherals|...</td>\n",
       "      <td>₹329</td>\n",
       "      <td>₹699</td>\n",
       "      <td>53%</td>\n",
       "      <td>4.2</td>\n",
       "      <td>94,363</td>\n",
       "      <td>The boAt Deuce USB 300 2 in 1 cable is compati...</td>\n",
       "      <td>AEWAZDZZJLQUYVOVGBEUKSLXHQ5A,AG5HTSFRRE6NL3M5S...</td>\n",
       "      <td>Omkar dhale,JD,HEMALATHA,Ajwadh a.,amar singh ...</td>\n",
       "      <td>R3EEUZKKK9J36I,R3HJVYCLYOY554,REDECAZ7AMPQC,R1...</td>\n",
       "      <td>Good product,Good one,Nice,Really nice product...</td>\n",
       "      <td>Good product,long wire,Charges good,Nice,I bou...</td>\n",
       "      <td>https://m.media-amazon.com/images/I/41V5FtEWPk...</td>\n",
       "      <td>https://www.amazon.in/Deuce-300-Resistant-Tang...</td>\n",
       "    </tr>\n",
       "    <tr>\n",
       "      <th>4</th>\n",
       "      <td>B08CF3B7N1</td>\n",
       "      <td>Portronics Konnect L 1.2M Fast Charging 3A 8 P...</td>\n",
       "      <td>Computers&amp;Accessories|Accessories&amp;Peripherals|...</td>\n",
       "      <td>₹154</td>\n",
       "      <td>₹399</td>\n",
       "      <td>61%</td>\n",
       "      <td>4.2</td>\n",
       "      <td>16,905</td>\n",
       "      <td>[CHARGE &amp; SYNC FUNCTION]- This cable comes wit...</td>\n",
       "      <td>AE3Q6KSUK5P75D5HFYHCRAOLODSA,AFUGIFH5ZAFXRDSZH...</td>\n",
       "      <td>rahuls6099,Swasat Borah,Ajay Wadke,Pranali,RVK...</td>\n",
       "      <td>R1BP4L2HH9TFUP,R16PVJEXKV6QZS,R2UPDB81N66T4P,R...</td>\n",
       "      <td>As good as original,Decent,Good one for second...</td>\n",
       "      <td>Bought this instead of original apple, does th...</td>\n",
       "      <td>https://m.media-amazon.com/images/W/WEBP_40237...</td>\n",
       "      <td>https://www.amazon.in/Portronics-Konnect-POR-1...</td>\n",
       "    </tr>\n",
       "  </tbody>\n",
       "</table>\n",
       "</div>"
      ],
      "text/plain": [
       "   product_id                                       product_name  \\\n",
       "0  B07JW9H4J1  Wayona Nylon Braided USB to Lightning Fast Cha...   \n",
       "1  B098NS6PVG  Ambrane Unbreakable 60W / 3A Fast Charging 1.5...   \n",
       "2  B096MSW6CT  Sounce Fast Phone Charging Cable & Data Sync U...   \n",
       "3  B08HDJ86NZ  boAt Deuce USB 300 2 in 1 Type-C & Micro USB S...   \n",
       "4  B08CF3B7N1  Portronics Konnect L 1.2M Fast Charging 3A 8 P...   \n",
       "\n",
       "                                            category discounted_price  \\\n",
       "0  Computers&Accessories|Accessories&Peripherals|...             ₹399   \n",
       "1  Computers&Accessories|Accessories&Peripherals|...             ₹199   \n",
       "2  Computers&Accessories|Accessories&Peripherals|...             ₹199   \n",
       "3  Computers&Accessories|Accessories&Peripherals|...             ₹329   \n",
       "4  Computers&Accessories|Accessories&Peripherals|...             ₹154   \n",
       "\n",
       "  actual_price discount_percentage rating rating_count  \\\n",
       "0       ₹1,099                 64%    4.2       24,269   \n",
       "1         ₹349                 43%    4.0       43,994   \n",
       "2       ₹1,899                 90%    3.9        7,928   \n",
       "3         ₹699                 53%    4.2       94,363   \n",
       "4         ₹399                 61%    4.2       16,905   \n",
       "\n",
       "                                       about_product  \\\n",
       "0  High Compatibility : Compatible With iPhone 12...   \n",
       "1  Compatible with all Type C enabled devices, be...   \n",
       "2  【 Fast Charger& Data Sync】-With built-in safet...   \n",
       "3  The boAt Deuce USB 300 2 in 1 cable is compati...   \n",
       "4  [CHARGE & SYNC FUNCTION]- This cable comes wit...   \n",
       "\n",
       "                                             user_id  \\\n",
       "0  AG3D6O4STAQKAY2UVGEUV46KN35Q,AHMY5CWJMMK5BJRBB...   \n",
       "1  AECPFYFQVRUWC3KGNLJIOREFP5LQ,AGYYVPDD7YG7FYNBX...   \n",
       "2  AGU3BBQ2V2DDAMOAKGFAWDDQ6QHA,AESFLDV2PT363T2AQ...   \n",
       "3  AEWAZDZZJLQUYVOVGBEUKSLXHQ5A,AG5HTSFRRE6NL3M5S...   \n",
       "4  AE3Q6KSUK5P75D5HFYHCRAOLODSA,AFUGIFH5ZAFXRDSZH...   \n",
       "\n",
       "                                           user_name  \\\n",
       "0  Manav,Adarsh gupta,Sundeep,S.Sayeed Ahmed,jasp...   \n",
       "1  ArdKn,Nirbhay kumar,Sagar Viswanathan,Asp,Plac...   \n",
       "2  Kunal,Himanshu,viswanath,sai niharka,saqib mal...   \n",
       "3  Omkar dhale,JD,HEMALATHA,Ajwadh a.,amar singh ...   \n",
       "4  rahuls6099,Swasat Borah,Ajay Wadke,Pranali,RVK...   \n",
       "\n",
       "                                           review_id  \\\n",
       "0  R3HXWT0LRP0NMF,R2AJM3LFTLZHFO,R6AQJGUP6P86,R1K...   \n",
       "1  RGIQEG07R9HS2,R1SMWZQ86XIN8U,R2J3Y1WL29GWDE,RY...   \n",
       "2  R3J3EQQ9TZI5ZJ,R3E7WBGK7ID0KV,RWU79XKQ6I1QF,R2...   \n",
       "3  R3EEUZKKK9J36I,R3HJVYCLYOY554,REDECAZ7AMPQC,R1...   \n",
       "4  R1BP4L2HH9TFUP,R16PVJEXKV6QZS,R2UPDB81N66T4P,R...   \n",
       "\n",
       "                                        review_title  \\\n",
       "0  Satisfied,Charging is really fast,Value for mo...   \n",
       "1  A Good Braided Cable for Your Type C Device,Go...   \n",
       "2  Good speed for earlier versions,Good Product,W...   \n",
       "3  Good product,Good one,Nice,Really nice product...   \n",
       "4  As good as original,Decent,Good one for second...   \n",
       "\n",
       "                                      review_content  \\\n",
       "0  Looks durable Charging is fine tooNo complains...   \n",
       "1  I ordered this cable to connect my phone to An...   \n",
       "2  Not quite durable and sturdy,https://m.media-a...   \n",
       "3  Good product,long wire,Charges good,Nice,I bou...   \n",
       "4  Bought this instead of original apple, does th...   \n",
       "\n",
       "                                            img_link  \\\n",
       "0  https://m.media-amazon.com/images/W/WEBP_40237...   \n",
       "1  https://m.media-amazon.com/images/W/WEBP_40237...   \n",
       "2  https://m.media-amazon.com/images/W/WEBP_40237...   \n",
       "3  https://m.media-amazon.com/images/I/41V5FtEWPk...   \n",
       "4  https://m.media-amazon.com/images/W/WEBP_40237...   \n",
       "\n",
       "                                        product_link  \n",
       "0  https://www.amazon.in/Wayona-Braided-WN3LG1-Sy...  \n",
       "1  https://www.amazon.in/Ambrane-Unbreakable-Char...  \n",
       "2  https://www.amazon.in/Sounce-iPhone-Charging-C...  \n",
       "3  https://www.amazon.in/Deuce-300-Resistant-Tang...  \n",
       "4  https://www.amazon.in/Portronics-Konnect-POR-1...  "
      ]
     },
     "execution_count": 111,
     "metadata": {},
     "output_type": "execute_result"
    }
   ],
   "source": [
    "# Load the Data from the CSV file\n",
    "\n",
    "amazon_sales = pd.read_csv(\"Data Source/amazon.csv\")\n",
    "amazon_sales.head(5)"
   ]
  },
  {
   "cell_type": "markdown",
   "metadata": {},
   "source": [
    "### **Data Exploration**"
   ]
  },
  {
   "cell_type": "code",
   "execution_count": 112,
   "metadata": {},
   "outputs": [
    {
     "name": "stdout",
     "output_type": "stream",
     "text": [
      "\n",
      "Shape of the Dataset: \n",
      "(1465, 16)\n",
      "\n",
      "Overview of Dataset: \n",
      "<class 'pandas.core.frame.DataFrame'>\n",
      "RangeIndex: 1465 entries, 0 to 1464\n",
      "Data columns (total 16 columns):\n",
      " #   Column               Non-Null Count  Dtype \n",
      "---  ------               --------------  ----- \n",
      " 0   product_id           1465 non-null   object\n",
      " 1   product_name         1465 non-null   object\n",
      " 2   category             1465 non-null   object\n",
      " 3   discounted_price     1465 non-null   object\n",
      " 4   actual_price         1465 non-null   object\n",
      " 5   discount_percentage  1465 non-null   object\n",
      " 6   rating               1465 non-null   object\n",
      " 7   rating_count         1463 non-null   object\n",
      " 8   about_product        1465 non-null   object\n",
      " 9   user_id              1465 non-null   object\n",
      " 10  user_name            1465 non-null   object\n",
      " 11  review_id            1465 non-null   object\n",
      " 12  review_title         1465 non-null   object\n",
      " 13  review_content       1465 non-null   object\n",
      " 14  img_link             1465 non-null   object\n",
      " 15  product_link         1465 non-null   object\n",
      "dtypes: object(16)\n",
      "memory usage: 183.3+ KB\n",
      "None\n"
     ]
    }
   ],
   "source": [
    "# Step 1: Data Exploration\n",
    "\n",
    "# no of rows and columns in dataset\n",
    "print('\\nShape of the Dataset: ')\n",
    "print(amazon_sales.shape)\n",
    "\n",
    "# Overview of Dataset\n",
    "print(\"\\nOverview of Dataset: \")\n",
    "print(amazon_sales.info())\n"
   ]
  },
  {
   "cell_type": "markdown",
   "metadata": {
    "vscode": {
     "languageId": "raw"
    }
   },
   "source": [
    "- We have 1465 rows(entries) and 16 columns(attributes).\n",
    "- All of our attributes are of **object** Datatype, which means that even numerical values like discounted_price, actual_price, rating count, discounted_percentage, and rating are stored as text."
   ]
  },
  {
   "cell_type": "markdown",
   "metadata": {},
   "source": [
    "### **Data Preprocessing**"
   ]
  },
  {
   "cell_type": "code",
   "execution_count": 113,
   "metadata": {},
   "outputs": [
    {
     "name": "stdout",
     "output_type": "stream",
     "text": [
      "\n",
      "Missing Values:\n",
      "product_id             0\n",
      "product_name           0\n",
      "category               0\n",
      "discounted_price       0\n",
      "actual_price           0\n",
      "discount_percentage    0\n",
      "rating                 0\n",
      "rating_count           2\n",
      "about_product          0\n",
      "user_id                0\n",
      "user_name              0\n",
      "review_id              0\n",
      "review_title           0\n",
      "review_content         0\n",
      "img_link               0\n",
      "product_link           0\n",
      "dtype: int64\n"
     ]
    }
   ],
   "source": [
    "# Step 2: Data Preprocessing\n",
    "\n",
    "# Data Cleaning\n",
    "\n",
    "print('\\nMissing Values:')\n",
    "print(amazon_sales.isna().sum())"
   ]
  },
  {
   "cell_type": "markdown",
   "metadata": {},
   "source": [
    "- As we can see, we have **2** missing values in **rating_count** column out of **1465** so we are going to drop them because it makes nearly **0.14%** of total data, making it insignificant."
   ]
  },
  {
   "cell_type": "code",
   "execution_count": 114,
   "metadata": {},
   "outputs": [
    {
     "name": "stdout",
     "output_type": "stream",
     "text": [
      "product_id             0\n",
      "product_name           0\n",
      "category               0\n",
      "discounted_price       0\n",
      "actual_price           0\n",
      "discount_percentage    0\n",
      "rating                 0\n",
      "rating_count           0\n",
      "about_product          0\n",
      "user_id                0\n",
      "user_name              0\n",
      "review_id              0\n",
      "review_title           0\n",
      "review_content         0\n",
      "img_link               0\n",
      "product_link           0\n",
      "dtype: int64\n"
     ]
    }
   ],
   "source": [
    "amazon_sales = amazon_sales.dropna()\n",
    "print(amazon_sales.isna().sum())"
   ]
  },
  {
   "cell_type": "code",
   "execution_count": 115,
   "metadata": {},
   "outputs": [
    {
     "name": "stdout",
     "output_type": "stream",
     "text": [
      "\n",
      "Duplicate Values:\n",
      "0\n"
     ]
    }
   ],
   "source": [
    "# Check for duplicates\n",
    "print(\"\\nDuplicate Values:\")\n",
    "print(amazon_sales.duplicated().sum())"
   ]
  },
  {
   "cell_type": "markdown",
   "metadata": {},
   "source": [
    "- There are no duplicate entries in our dataset."
   ]
  },
  {
   "cell_type": "code",
   "execution_count": 116,
   "metadata": {},
   "outputs": [
    {
     "name": "stdout",
     "output_type": "stream",
     "text": [
      "['4.2' '4.0' '3.9' '4.1' '4.3' '4.4' '4.5' '3.7' '3.3' '3.6' '3.4' '3.8'\n",
      " '3.5' '4.6' '3.2' '5.0' '4.7' '3.0' '2.8' '4' '3.1' '4.8' '2.3' '|' '2'\n",
      " '3' '2.6' '2.9']\n"
     ]
    }
   ],
   "source": [
    "print(amazon_sales['rating'].unique())\n",
    "\n",
    "# Remove | in 'rating' column\n",
    "amazon_sales = amazon_sales[amazon_sales['rating'] != '|']"
   ]
  },
  {
   "cell_type": "code",
   "execution_count": 117,
   "metadata": {},
   "outputs": [
    {
     "name": "stdout",
     "output_type": "stream",
     "text": [
      "<class 'pandas.core.frame.DataFrame'>\n",
      "Index: 1462 entries, 0 to 1464\n",
      "Data columns (total 16 columns):\n",
      " #   Column               Non-Null Count  Dtype  \n",
      "---  ------               --------------  -----  \n",
      " 0   product_id           1462 non-null   object \n",
      " 1   product_name         1462 non-null   object \n",
      " 2   category             1462 non-null   object \n",
      " 3   discounted_price     1462 non-null   float64\n",
      " 4   actual_price         1462 non-null   float64\n",
      " 5   discount_percentage  1462 non-null   float64\n",
      " 6   rating               1462 non-null   float64\n",
      " 7   rating_count         1462 non-null   int64  \n",
      " 8   about_product        1462 non-null   object \n",
      " 9   user_id              1462 non-null   object \n",
      " 10  user_name            1462 non-null   object \n",
      " 11  review_id            1462 non-null   object \n",
      " 12  review_title         1462 non-null   object \n",
      " 13  review_content       1462 non-null   object \n",
      " 14  img_link             1462 non-null   object \n",
      " 15  product_link         1462 non-null   object \n",
      "dtypes: float64(4), int64(1), object(11)\n",
      "memory usage: 194.2+ KB\n"
     ]
    }
   ],
   "source": [
    "# Convert columns to appropriate data types\n",
    "\n",
    "amazon_sales['discounted_price'] = amazon_sales['discounted_price'].astype(str).str.replace('₹', '').str.replace(',', '').astype(float)\n",
    "amazon_sales['actual_price'] = amazon_sales['actual_price'].astype(str).str.replace('₹', '').str.replace(',', '').astype(float)\n",
    "amazon_sales['discount_percentage'] = amazon_sales['discount_percentage'].astype(str).str.replace('%', '').astype(float)\n",
    "amazon_sales['rating'] = amazon_sales['rating'].astype(float)\n",
    "amazon_sales['rating_count'] = amazon_sales['rating_count'].astype(str).str.replace(',','').astype(int)\n",
    "amazon_sales.info()"
   ]
  },
  {
   "cell_type": "markdown",
   "metadata": {},
   "source": [
    "- We converted  **discounted_price, actual_price, discount_percentage,and rating** to float and **rating_count** to int from object so that numerical columns will not be considered as text."
   ]
  },
  {
   "cell_type": "code",
   "execution_count": 118,
   "metadata": {},
   "outputs": [
    {
     "name": "stdout",
     "output_type": "stream",
     "text": [
      "Summary Stats\n",
      "       discounted_price   actual_price  discount_percentage       rating  \\\n",
      "count       1462.000000    1462.000000          1462.000000  1462.000000   \n",
      "mean        3129.981826    5453.087743            47.672367     4.096717   \n",
      "std         6950.548042   10884.467444            21.613905     0.289497   \n",
      "min           39.000000      39.000000             0.000000     2.000000   \n",
      "25%          325.000000     800.000000            32.000000     4.000000   \n",
      "50%          799.000000    1670.000000            50.000000     4.100000   \n",
      "75%         1999.000000    4321.250000            63.000000     4.300000   \n",
      "max        77990.000000  139900.000000            94.000000     5.000000   \n",
      "\n",
      "        rating_count  \n",
      "count    1462.000000  \n",
      "mean    18307.376881  \n",
      "std     42766.096572  \n",
      "min         2.000000  \n",
      "25%      1191.500000  \n",
      "50%      5179.000000  \n",
      "75%     17342.250000  \n",
      "max    426973.000000  \n"
     ]
    }
   ],
   "source": [
    "# Basic stats\n",
    "print(\"Summary Stats\")\n",
    "print(amazon_sales.describe())"
   ]
  },
  {
   "cell_type": "markdown",
   "metadata": {},
   "source": [
    " - Products range from **₹39 to ₹1,39,900**, with an average discount of **47.67%**, making them more affordable.\n",
    " - High average rating of **4.1/5** shows strong customer satisfaction.\n",
    " - Rating counts vary widely **(2 to 426,973)**, indicating some products are far more popular than others.\n",
    " - Discounts up to **94%** highlight aggressive pricing strategies to boost sales."
   ]
  },
  {
   "cell_type": "markdown",
   "metadata": {},
   "source": [
    "### **Exploratory Data Analysis (EDA)**"
   ]
  },
  {
   "cell_type": "code",
   "execution_count": 119,
   "metadata": {},
   "outputs": [
    {
     "name": "stdout",
     "output_type": "stream",
     "text": [
      "What is Plotly?\n"
     ]
    }
   ],
   "source": [
    "print('What is Plotly?')"
   ]
  },
  {
   "cell_type": "markdown",
   "metadata": {},
   "source": [
    "Plotly is a Python library that creates interactive, web-based visualizations. It provides tools like Plotly Express for quick plots and Graph Objects for detailed customization."
   ]
  },
  {
   "cell_type": "code",
   "execution_count": 120,
   "metadata": {},
   "outputs": [],
   "source": [
    "import plotly.io as pio\n",
    "from IPython.display import display, Image, HTML\n",
    "import os\n",
    "\n",
    "def save_and_display(fig, filename):\n",
    "    # Save PNG\n",
    "    png_filename = filename.replace(\".html\", \".png\")\n",
    "    pio.write_image(fig, png_filename)\n",
    "    \n",
    "    # Save HTML\n",
    "    html_filename = filename\n",
    "    pio.write_html(fig, html_filename)\n",
    "    \n",
    "    # Display PNG in Notebook\n",
    "    display(Image(filename=png_filename))\n",
    "    \n",
    "    # Get absolute path of the HTML file\n",
    "    abs_path = os.path.abspath(html_filename)\n",
    "    \n",
    "    # Create a file URL\n",
    "    file_url = f\"file:///{abs_path}\".replace(\"\\\\\", \"/\")  # Fix for Windows paths\n",
    "    \n",
    "    # Provide a clickable link to open the interactive plot\n",
    "    display(HTML(f'<a href=\"{file_url}\" target=\"_blank\">🔗 View Interactive Plot</a>'))\n"
   ]
  },
  {
   "cell_type": "markdown",
   "metadata": {},
   "source": [
    "#### **Q1:  What is the average rating for top 20 product categories?**"
   ]
  },
  {
   "cell_type": "code",
   "execution_count": 121,
   "metadata": {},
   "outputs": [
    {
     "name": "stdout",
     "output_type": "stream",
     "text": [
      "\n",
      "Average rating for top 20 product categories\n"
     ]
    },
    {
     "data": {
      "text/html": [
       "<div>\n",
       "<style scoped>\n",
       "    .dataframe tbody tr th:only-of-type {\n",
       "        vertical-align: middle;\n",
       "    }\n",
       "\n",
       "    .dataframe tbody tr th {\n",
       "        vertical-align: top;\n",
       "    }\n",
       "\n",
       "    .dataframe thead th {\n",
       "        text-align: right;\n",
       "    }\n",
       "</style>\n",
       "<table border=\"1\" class=\"dataframe\">\n",
       "  <thead>\n",
       "    <tr style=\"text-align: right;\">\n",
       "      <th></th>\n",
       "      <th>category</th>\n",
       "      <th>rating</th>\n",
       "    </tr>\n",
       "  </thead>\n",
       "  <tbody>\n",
       "    <tr>\n",
       "      <th>57</th>\n",
       "      <td>Computers&amp;Accessories|Tablets</td>\n",
       "      <td>4.600000</td>\n",
       "    </tr>\n",
       "    <tr>\n",
       "      <th>38</th>\n",
       "      <td>Computers&amp;Accessories|Components|Memory</td>\n",
       "      <td>4.500000</td>\n",
       "    </tr>\n",
       "    <tr>\n",
       "      <th>48</th>\n",
       "      <td>Computers&amp;Accessories|NetworkingDevices|Networ...</td>\n",
       "      <td>4.500000</td>\n",
       "    </tr>\n",
       "    <tr>\n",
       "      <th>62</th>\n",
       "      <td>Electronics|Cameras&amp;Photography|Accessories|Film</td>\n",
       "      <td>4.500000</td>\n",
       "    </tr>\n",
       "    <tr>\n",
       "      <th>81</th>\n",
       "      <td>Electronics|HomeAudio|MediaStreamingDevices|St...</td>\n",
       "      <td>4.500000</td>\n",
       "    </tr>\n",
       "    <tr>\n",
       "      <th>118</th>\n",
       "      <td>Electronics|PowerAccessories|SurgeProtectors</td>\n",
       "      <td>4.500000</td>\n",
       "    </tr>\n",
       "    <tr>\n",
       "      <th>123</th>\n",
       "      <td>Home&amp;Kitchen|CraftMaterials|PaintingMaterials</td>\n",
       "      <td>4.500000</td>\n",
       "    </tr>\n",
       "    <tr>\n",
       "      <th>148</th>\n",
       "      <td>Home&amp;Kitchen|Kitchen&amp;HomeAppliances|Coffee,Tea...</td>\n",
       "      <td>4.500000</td>\n",
       "    </tr>\n",
       "    <tr>\n",
       "      <th>175</th>\n",
       "      <td>Home&amp;Kitchen|Kitchen&amp;HomeAppliances|SmallKitch...</td>\n",
       "      <td>4.500000</td>\n",
       "    </tr>\n",
       "    <tr>\n",
       "      <th>194</th>\n",
       "      <td>HomeImprovement|Electrical|CordManagement</td>\n",
       "      <td>4.500000</td>\n",
       "    </tr>\n",
       "    <tr>\n",
       "      <th>196</th>\n",
       "      <td>OfficeProducts|OfficeElectronics|Calculators|B...</td>\n",
       "      <td>4.500000</td>\n",
       "    </tr>\n",
       "    <tr>\n",
       "      <th>107</th>\n",
       "      <td>Electronics|Mobiles&amp;Accessories|MobileAccessor...</td>\n",
       "      <td>4.471429</td>\n",
       "    </tr>\n",
       "    <tr>\n",
       "      <th>155</th>\n",
       "      <td>Home&amp;Kitchen|Kitchen&amp;HomeAppliances|SmallKitch...</td>\n",
       "      <td>4.460000</td>\n",
       "    </tr>\n",
       "    <tr>\n",
       "      <th>198</th>\n",
       "      <td>OfficeProducts|OfficeElectronics|Calculators|S...</td>\n",
       "      <td>4.450000</td>\n",
       "    </tr>\n",
       "    <tr>\n",
       "      <th>124</th>\n",
       "      <td>Home&amp;Kitchen|CraftMaterials|PaintingMaterials|...</td>\n",
       "      <td>4.433333</td>\n",
       "    </tr>\n",
       "    <tr>\n",
       "      <th>71</th>\n",
       "      <td>Electronics|GeneralPurposeBatteries&amp;BatteryCha...</td>\n",
       "      <td>4.414286</td>\n",
       "    </tr>\n",
       "    <tr>\n",
       "      <th>7</th>\n",
       "      <td>Computers&amp;Accessories|Accessories&amp;Peripherals|...</td>\n",
       "      <td>4.400000</td>\n",
       "    </tr>\n",
       "    <tr>\n",
       "      <th>8</th>\n",
       "      <td>Computers&amp;Accessories|Accessories&amp;Peripherals|...</td>\n",
       "      <td>4.400000</td>\n",
       "    </tr>\n",
       "    <tr>\n",
       "      <th>41</th>\n",
       "      <td>Computers&amp;Accessories|ExternalDevices&amp;DataStor...</td>\n",
       "      <td>4.400000</td>\n",
       "    </tr>\n",
       "    <tr>\n",
       "      <th>59</th>\n",
       "      <td>Electronics|Accessories|MemoryCards|SecureDigi...</td>\n",
       "      <td>4.400000</td>\n",
       "    </tr>\n",
       "  </tbody>\n",
       "</table>\n",
       "</div>"
      ],
      "text/plain": [
       "                                              category    rating\n",
       "57                       Computers&Accessories|Tablets  4.600000\n",
       "38             Computers&Accessories|Components|Memory  4.500000\n",
       "48   Computers&Accessories|NetworkingDevices|Networ...  4.500000\n",
       "62    Electronics|Cameras&Photography|Accessories|Film  4.500000\n",
       "81   Electronics|HomeAudio|MediaStreamingDevices|St...  4.500000\n",
       "118       Electronics|PowerAccessories|SurgeProtectors  4.500000\n",
       "123      Home&Kitchen|CraftMaterials|PaintingMaterials  4.500000\n",
       "148  Home&Kitchen|Kitchen&HomeAppliances|Coffee,Tea...  4.500000\n",
       "175  Home&Kitchen|Kitchen&HomeAppliances|SmallKitch...  4.500000\n",
       "194          HomeImprovement|Electrical|CordManagement  4.500000\n",
       "196  OfficeProducts|OfficeElectronics|Calculators|B...  4.500000\n",
       "107  Electronics|Mobiles&Accessories|MobileAccessor...  4.471429\n",
       "155  Home&Kitchen|Kitchen&HomeAppliances|SmallKitch...  4.460000\n",
       "198  OfficeProducts|OfficeElectronics|Calculators|S...  4.450000\n",
       "124  Home&Kitchen|CraftMaterials|PaintingMaterials|...  4.433333\n",
       "71   Electronics|GeneralPurposeBatteries&BatteryCha...  4.414286\n",
       "7    Computers&Accessories|Accessories&Peripherals|...  4.400000\n",
       "8    Computers&Accessories|Accessories&Peripherals|...  4.400000\n",
       "41   Computers&Accessories|ExternalDevices&DataStor...  4.400000\n",
       "59   Electronics|Accessories|MemoryCards|SecureDigi...  4.400000"
      ]
     },
     "execution_count": 121,
     "metadata": {},
     "output_type": "execute_result"
    }
   ],
   "source": [
    "# Avg. rating for each product category\n",
    "category_avg_rating = amazon_sales.groupby('category')['rating'].mean().reset_index() \n",
    "\n",
    "print(\"\\nAverage rating for top 20 product categories\")\n",
    "\n",
    "# Avg. rating for top 20 Product categories\n",
    "top_categories = category_avg_rating.nlargest(20, 'rating')  # Top 20 categories\n",
    "\n",
    "top_categories"
   ]
  },
  {
   "cell_type": "code",
   "execution_count": 122,
   "metadata": {},
   "outputs": [
    {
     "data": {
      "image/png": "[encoded data removed]",
      "text/plain": [
       "<IPython.core.display.Image object>"
      ]
     },
     "metadata": {},
     "output_type": "display_data"
    },
    {
     "data": {
      "text/html": [
       "<a href=\"file:///d:/MARIAM/DataScience/Amazon Sales Data Analysis - Insights into Product Ratings, Pricing, and Customer Reviews/plotlyplots/plot1.html\" target=\"_blank\">🔗 View Interactive Plot</a>"
      ],
      "text/plain": [
       "<IPython.core.display.HTML object>"
      ]
     },
     "metadata": {},
     "output_type": "display_data"
    }
   ],
   "source": [
    "# bar plot for average rating for each product category\n",
    "fig1 = px.bar(data_frame=top_categories, \n",
    "              x='rating', \n",
    "              y='category', \n",
    "              title='Average Rating By Top 20 Product Categories',\n",
    "              orientation='h',\n",
    "              color='category')  # Horizontal bar chart\n",
    "\n",
    "fig1.update_layout(xaxis_title='Average Rating', yaxis_title='Product Category', width=1300,height=800, showlegend=False)\n",
    "# fig1.show()\n",
    "save_and_display(fig1, \"plotlyplots/plot1.html\")"
   ]
  },
  {
   "cell_type": "markdown",
   "metadata": {},
   "source": [
    "- The **average rating** for the **top 20 product categories** ranges from **4.4 to 4.6**, showing high customer satisfaction across these categories.\n",
    "- Tech products, home essentials, and office supplies dominating, reflecting strong customer satisfaction and market demand. "
   ]
  },
  {
   "cell_type": "markdown",
   "metadata": {},
   "source": [
    "#### **Q2: What are the top rated products by category?**"
   ]
  },
  {
   "cell_type": "code",
   "execution_count": 123,
   "metadata": {},
   "outputs": [
    {
     "name": "stdout",
     "output_type": "stream",
     "text": [
      "\n",
      "Top rated products by category\n"
     ]
    },
    {
     "data": {
      "text/html": [
       "<div>\n",
       "<style scoped>\n",
       "    .dataframe tbody tr th:only-of-type {\n",
       "        vertical-align: middle;\n",
       "    }\n",
       "\n",
       "    .dataframe tbody tr th {\n",
       "        vertical-align: top;\n",
       "    }\n",
       "\n",
       "    .dataframe thead th {\n",
       "        text-align: right;\n",
       "    }\n",
       "</style>\n",
       "<table border=\"1\" class=\"dataframe\">\n",
       "  <thead>\n",
       "    <tr style=\"text-align: right;\">\n",
       "      <th></th>\n",
       "      <th>category</th>\n",
       "      <th>product_name</th>\n",
       "      <th>rating_count</th>\n",
       "    </tr>\n",
       "  </thead>\n",
       "  <tbody>\n",
       "    <tr>\n",
       "      <th>500</th>\n",
       "      <td>Electronics|HomeTheater,TV&amp;Video|Accessories|C...</td>\n",
       "      <td>Amazon Basics High-Speed HDMI Cable, 6 Feet - ...</td>\n",
       "      <td>426973</td>\n",
       "    </tr>\n",
       "    <tr>\n",
       "      <th>505</th>\n",
       "      <td>Electronics|HomeTheater,TV&amp;Video|Accessories|C...</td>\n",
       "      <td>AmazonBasics Flexible Premium HDMI Cable (Blac...</td>\n",
       "      <td>426973</td>\n",
       "    </tr>\n",
       "    <tr>\n",
       "      <th>499</th>\n",
       "      <td>Electronics|HomeTheater,TV&amp;Video|Accessories|C...</td>\n",
       "      <td>Amazon Basics High-Speed HDMI Cable, 6 Feet (2...</td>\n",
       "      <td>426973</td>\n",
       "    </tr>\n",
       "    <tr>\n",
       "      <th>459</th>\n",
       "      <td>Electronics|Headphones,Earbuds&amp;Accessories|Hea...</td>\n",
       "      <td>boAt Bassheads 100 in Ear Wired Earphones with...</td>\n",
       "      <td>363713</td>\n",
       "    </tr>\n",
       "    <tr>\n",
       "      <th>458</th>\n",
       "      <td>Electronics|Headphones,Earbuds&amp;Accessories|Hea...</td>\n",
       "      <td>boAt Bassheads 100 in Ear Wired Earphones with...</td>\n",
       "      <td>363713</td>\n",
       "    </tr>\n",
       "    <tr>\n",
       "      <th>456</th>\n",
       "      <td>Electronics|Headphones,Earbuds&amp;Accessories|Hea...</td>\n",
       "      <td>boAt BassHeads 100 in-Ear Wired Headphones wit...</td>\n",
       "      <td>363711</td>\n",
       "    </tr>\n",
       "    <tr>\n",
       "      <th>749</th>\n",
       "      <td>Electronics|Mobiles&amp;Accessories|Smartphones&amp;Ba...</td>\n",
       "      <td>Redmi 9A Sport (Coral Green, 2GB RAM, 32GB Sto...</td>\n",
       "      <td>313836</td>\n",
       "    </tr>\n",
       "    <tr>\n",
       "      <th>747</th>\n",
       "      <td>Electronics|Mobiles&amp;Accessories|Smartphones&amp;Ba...</td>\n",
       "      <td>Redmi 9 Activ (Carbon Black, 4GB RAM, 64GB Sto...</td>\n",
       "      <td>313836</td>\n",
       "    </tr>\n",
       "    <tr>\n",
       "      <th>748</th>\n",
       "      <td>Electronics|Mobiles&amp;Accessories|Smartphones&amp;Ba...</td>\n",
       "      <td>Redmi 9A Sport (Carbon Black, 2GB RAM, 32GB St...</td>\n",
       "      <td>313832</td>\n",
       "    </tr>\n",
       "    <tr>\n",
       "      <th>750</th>\n",
       "      <td>Electronics|Mobiles&amp;Accessories|Smartphones&amp;Ba...</td>\n",
       "      <td>Redmi 9A Sport (Coral Green, 3GB RAM, 32GB Sto...</td>\n",
       "      <td>313832</td>\n",
       "    </tr>\n",
       "  </tbody>\n",
       "</table>\n",
       "</div>"
      ],
      "text/plain": [
       "                                              category  \\\n",
       "500  Electronics|HomeTheater,TV&Video|Accessories|C...   \n",
       "505  Electronics|HomeTheater,TV&Video|Accessories|C...   \n",
       "499  Electronics|HomeTheater,TV&Video|Accessories|C...   \n",
       "459  Electronics|Headphones,Earbuds&Accessories|Hea...   \n",
       "458  Electronics|Headphones,Earbuds&Accessories|Hea...   \n",
       "456  Electronics|Headphones,Earbuds&Accessories|Hea...   \n",
       "749  Electronics|Mobiles&Accessories|Smartphones&Ba...   \n",
       "747  Electronics|Mobiles&Accessories|Smartphones&Ba...   \n",
       "748  Electronics|Mobiles&Accessories|Smartphones&Ba...   \n",
       "750  Electronics|Mobiles&Accessories|Smartphones&Ba...   \n",
       "\n",
       "                                          product_name  rating_count  \n",
       "500  Amazon Basics High-Speed HDMI Cable, 6 Feet - ...        426973  \n",
       "505  AmazonBasics Flexible Premium HDMI Cable (Blac...        426973  \n",
       "499  Amazon Basics High-Speed HDMI Cable, 6 Feet (2...        426973  \n",
       "459  boAt Bassheads 100 in Ear Wired Earphones with...        363713  \n",
       "458  boAt Bassheads 100 in Ear Wired Earphones with...        363713  \n",
       "456  boAt BassHeads 100 in-Ear Wired Headphones wit...        363711  \n",
       "749  Redmi 9A Sport (Coral Green, 2GB RAM, 32GB Sto...        313836  \n",
       "747  Redmi 9 Activ (Carbon Black, 4GB RAM, 64GB Sto...        313836  \n",
       "748  Redmi 9A Sport (Carbon Black, 2GB RAM, 32GB St...        313832  \n",
       "750  Redmi 9A Sport (Coral Green, 3GB RAM, 32GB Sto...        313832  "
      ]
     },
     "execution_count": 123,
     "metadata": {},
     "output_type": "execute_result"
    }
   ],
   "source": [
    "print(\"\\nTop rated products by category\")\n",
    "\n",
    "top_products_by_category = amazon_sales.groupby(['category', 'product_name'])['rating_count'].max().reset_index()\n",
    "top_products_by_category = top_products_by_category.sort_values(by='rating_count', ascending=False).head(10)\n",
    "top_products_by_category"
   ]
  },
  {
   "cell_type": "code",
   "execution_count": 124,
   "metadata": {},
   "outputs": [
    {
     "data": {
      "application/vnd.plotly.v1+json": {
       "config": {
        "plotlyServerURL": "https://plot.ly"
       },
       "data": [
        {
         "hovertemplate": "category=Electronics|HomeTheater,TV&Video|Accessories|Cables|HDMICables<br>rating_count=%{x}<br>product_name=%{y}<extra></extra>",
         "legendgroup": "Electronics|HomeTheater,TV&Video|Accessories|Cables|HDMICables",
         "marker": {
          "color": "#636efa",
          "pattern": {
           "shape": ""
          }
         },
         "name": "Electronics|HomeTheater,TV&Video|Accessories|Cables|HDMICables",
         "orientation": "h",
         "showlegend": true,
         "textposition": "auto",
         "type": "bar",
         "x": {
          "bdata": "3YMGAN2DBgDdgwYA",
          "dtype": "i4"
         },
         "xaxis": "x",
         "y": [
          "Amazon Basics High-Speed HDMI Cable, 6 Feet - Supports Ethernet, 3D, 4K video,Black",
          "AmazonBasics Flexible Premium HDMI Cable (Black, 4K@60Hz, 18Gbps), 3-Foot",
          "Amazon Basics High-Speed HDMI Cable, 6 Feet (2-Pack),Black"
         ],
         "yaxis": "y"
        },
        {
         "hovertemplate": "category=Electronics|Headphones,Earbuds&Accessories|Headphones|In-Ear<br>rating_count=%{x}<br>product_name=%{y}<extra></extra>",
         "legendgroup": "Electronics|Headphones,Earbuds&Accessories|Headphones|In-Ear",
         "marker": {
          "color": "#EF553B",
          "pattern": {
           "shape": ""
          }
         },
         "name": "Electronics|Headphones,Earbuds&Accessories|Headphones|In-Ear",
         "orientation": "h",
         "showlegend": true,
         "textposition": "auto",
         "type": "bar",
         "x": {
          "bdata": "wYwFAMGMBQC/jAUA",
          "dtype": "i4"
         },
         "xaxis": "x",
         "y": [
          "boAt Bassheads 100 in Ear Wired Earphones with Mic(Taffy Pink)",
          "boAt Bassheads 100 in Ear Wired Earphones with Mic(Furious Red)",
          "boAt BassHeads 100 in-Ear Wired Headphones with Mic (Black)"
         ],
         "yaxis": "y"
        },
        {
         "hovertemplate": "category=Electronics|Mobiles&Accessories|Smartphones&BasicMobiles|Smartphones<br>rating_count=%{x}<br>product_name=%{y}<extra></extra>",
         "legendgroup": "Electronics|Mobiles&Accessories|Smartphones&BasicMobiles|Smartphones",
         "marker": {
          "color": "#00cc96",
          "pattern": {
           "shape": ""
          }
         },
         "name": "Electronics|Mobiles&Accessories|Smartphones&BasicMobiles|Smartphones",
         "orientation": "h",
         "showlegend": true,
         "textposition": "auto",
         "type": "bar",
         "x": {
          "bdata": "7MkEAOzJBADoyQQA6MkEAA==",
          "dtype": "i4"
         },
         "xaxis": "x",
         "y": [
          "Redmi 9A Sport (Coral Green, 2GB RAM, 32GB Storage) | 2GHz Octa-core Helio G25 Processor | 5000 mAh Battery",
          "Redmi 9 Activ (Carbon Black, 4GB RAM, 64GB Storage) | Octa-core Helio G35 | 5000 mAh Battery",
          "Redmi 9A Sport (Carbon Black, 2GB RAM, 32GB Storage) | 2GHz Octa-core Helio G25 Processor | 5000 mAh Battery",
          "Redmi 9A Sport (Coral Green, 3GB RAM, 32GB Storage) | 2GHz Octa-core Helio G25 Processor | 5000 mAh Battery"
         ],
         "yaxis": "y"
        }
       ],
       "layout": {
        "barmode": "relative",
        "height": 600,
        "legend": {
         "orientation": "h",
         "title": {
          "text": "Categories"
         },
         "tracegroupgap": 0,
         "x": -0.2,
         "xanchor": "center",
         "y": -0.2,
         "yanchor": "top"
        },
        "showlegend": true,
        "template": {
         "data": {
          "bar": [
           {
            "error_x": {
             "color": "#2a3f5f"
            },
            "error_y": {
             "color": "#2a3f5f"
            },
            "marker": {
             "line": {
              "color": "#E5ECF6",
              "width": 0.5
             },
             "pattern": {
              "fillmode": "overlay",
              "size": 10,
              "solidity": 0.2
             }
            },
            "type": "bar"
           }
          ],
          "barpolar": [
           {
            "marker": {
             "line": {
              "color": "#E5ECF6",
              "width": 0.5
             },
             "pattern": {
              "fillmode": "overlay",
              "size": 10,
              "solidity": 0.2
             }
            },
            "type": "barpolar"
           }
          ],
          "carpet": [
           {
            "aaxis": {
             "endlinecolor": "#2a3f5f",
             "gridcolor": "white",
             "linecolor": "white",
             "minorgridcolor": "white",
             "startlinecolor": "#2a3f5f"
            },
            "baxis": {
             "endlinecolor": "#2a3f5f",
             "gridcolor": "white",
             "linecolor": "white",
             "minorgridcolor": "white",
             "startlinecolor": "#2a3f5f"
            },
            "type": "carpet"
           }
          ],
          "choropleth": [
           {
            "colorbar": {
             "outlinewidth": 0,
             "ticks": ""
            },
            "type": "choropleth"
           }
          ],
          "contour": [
           {
            "colorbar": {
             "outlinewidth": 0,
             "ticks": ""
            },
            "colorscale": [
             [
              0,
              "#0d0887"
             ],
             [
              0.1111111111111111,
              "#46039f"
             ],
             [
              0.2222222222222222,
              "#7201a8"
             ],
             [
              0.3333333333333333,
              "#9c179e"
             ],
             [
              0.4444444444444444,
              "#bd3786"
             ],
             [
              0.5555555555555556,
              "#d8576b"
             ],
             [
              0.6666666666666666,
              "#ed7953"
             ],
             [
              0.7777777777777778,
              "#fb9f3a"
             ],
             [
              0.8888888888888888,
              "#fdca26"
             ],
             [
              1,
              "#f0f921"
             ]
            ],
            "type": "contour"
           }
          ],
          "contourcarpet": [
           {
            "colorbar": {
             "outlinewidth": 0,
             "ticks": ""
            },
            "type": "contourcarpet"
           }
          ],
          "heatmap": [
           {
            "colorbar": {
             "outlinewidth": 0,
             "ticks": ""
            },
            "colorscale": [
             [
              0,
              "#0d0887"
             ],
             [
              0.1111111111111111,
              "#46039f"
             ],
             [
              0.2222222222222222,
              "#7201a8"
             ],
             [
              0.3333333333333333,
              "#9c179e"
             ],
             [
              0.4444444444444444,
              "#bd3786"
             ],
             [
              0.5555555555555556,
              "#d8576b"
             ],
             [
              0.6666666666666666,
              "#ed7953"
             ],
             [
              0.7777777777777778,
              "#fb9f3a"
             ],
             [
              0.8888888888888888,
              "#fdca26"
             ],
             [
              1,
              "#f0f921"
             ]
            ],
            "type": "heatmap"
           }
          ],
          "histogram": [
           {
            "marker": {
             "pattern": {
              "fillmode": "overlay",
              "size": 10,
              "solidity": 0.2
             }
            },
            "type": "histogram"
           }
          ],
          "histogram2d": [
           {
            "colorbar": {
             "outlinewidth": 0,
             "ticks": ""
            },
            "colorscale": [
             [
              0,
              "#0d0887"
             ],
             [
              0.1111111111111111,
              "#46039f"
             ],
             [
              0.2222222222222222,
              "#7201a8"
             ],
             [
              0.3333333333333333,
              "#9c179e"
             ],
             [
              0.4444444444444444,
              "#bd3786"
             ],
             [
              0.5555555555555556,
              "#d8576b"
             ],
             [
              0.6666666666666666,
              "#ed7953"
             ],
             [
              0.7777777777777778,
              "#fb9f3a"
             ],
             [
              0.8888888888888888,
              "#fdca26"
             ],
             [
              1,
              "#f0f921"
             ]
            ],
            "type": "histogram2d"
           }
          ],
          "histogram2dcontour": [
           {
            "colorbar": {
             "outlinewidth": 0,
             "ticks": ""
            },
            "colorscale": [
             [
              0,
              "#0d0887"
             ],
             [
              0.1111111111111111,
              "#46039f"
             ],
             [
              0.2222222222222222,
              "#7201a8"
             ],
             [
              0.3333333333333333,
              "#9c179e"
             ],
             [
              0.4444444444444444,
              "#bd3786"
             ],
             [
              0.5555555555555556,
              "#d8576b"
             ],
             [
              0.6666666666666666,
              "#ed7953"
             ],
             [
              0.7777777777777778,
              "#fb9f3a"
             ],
             [
              0.8888888888888888,
              "#fdca26"
             ],
             [
              1,
              "#f0f921"
             ]
            ],
            "type": "histogram2dcontour"
           }
          ],
          "mesh3d": [
           {
            "colorbar": {
             "outlinewidth": 0,
             "ticks": ""
            },
            "type": "mesh3d"
           }
          ],
          "parcoords": [
           {
            "line": {
             "colorbar": {
              "outlinewidth": 0,
              "ticks": ""
             }
            },
            "type": "parcoords"
           }
          ],
          "pie": [
           {
            "automargin": true,
            "type": "pie"
           }
          ],
          "scatter": [
           {
            "fillpattern": {
             "fillmode": "overlay",
             "size": 10,
             "solidity": 0.2
            },
            "type": "scatter"
           }
          ],
          "scatter3d": [
           {
            "line": {
             "colorbar": {
              "outlinewidth": 0,
              "ticks": ""
             }
            },
            "marker": {
             "colorbar": {
              "outlinewidth": 0,
              "ticks": ""
             }
            },
            "type": "scatter3d"
           }
          ],
          "scattercarpet": [
           {
            "marker": {
             "colorbar": {
              "outlinewidth": 0,
              "ticks": ""
             }
            },
            "type": "scattercarpet"
           }
          ],
          "scattergeo": [
           {
            "marker": {
             "colorbar": {
              "outlinewidth": 0,
              "ticks": ""
             }
            },
            "type": "scattergeo"
           }
          ],
          "scattergl": [
           {
            "marker": {
             "colorbar": {
              "outlinewidth": 0,
              "ticks": ""
             }
            },
            "type": "scattergl"
           }
          ],
          "scattermap": [
           {
            "marker": {
             "colorbar": {
              "outlinewidth": 0,
              "ticks": ""
             }
            },
            "type": "scattermap"
           }
          ],
          "scattermapbox": [
           {
            "marker": {
             "colorbar": {
              "outlinewidth": 0,
              "ticks": ""
             }
            },
            "type": "scattermapbox"
           }
          ],
          "scatterpolar": [
           {
            "marker": {
             "colorbar": {
              "outlinewidth": 0,
              "ticks": ""
             }
            },
            "type": "scatterpolar"
           }
          ],
          "scatterpolargl": [
           {
            "marker": {
             "colorbar": {
              "outlinewidth": 0,
              "ticks": ""
             }
            },
            "type": "scatterpolargl"
           }
          ],
          "scatterternary": [
           {
            "marker": {
             "colorbar": {
              "outlinewidth": 0,
              "ticks": ""
             }
            },
            "type": "scatterternary"
           }
          ],
          "surface": [
           {
            "colorbar": {
             "outlinewidth": 0,
             "ticks": ""
            },
            "colorscale": [
             [
              0,
              "#0d0887"
             ],
             [
              0.1111111111111111,
              "#46039f"
             ],
             [
              0.2222222222222222,
              "#7201a8"
             ],
             [
              0.3333333333333333,
              "#9c179e"
             ],
             [
              0.4444444444444444,
              "#bd3786"
             ],
             [
              0.5555555555555556,
              "#d8576b"
             ],
             [
              0.6666666666666666,
              "#ed7953"
             ],
             [
              0.7777777777777778,
              "#fb9f3a"
             ],
             [
              0.8888888888888888,
              "#fdca26"
             ],
             [
              1,
              "#f0f921"
             ]
            ],
            "type": "surface"
           }
          ],
          "table": [
           {
            "cells": {
             "fill": {
              "color": "#EBF0F8"
             },
             "line": {
              "color": "white"
             }
            },
            "header": {
             "fill": {
              "color": "#C8D4E3"
             },
             "line": {
              "color": "white"
             }
            },
            "type": "table"
           }
          ]
         },
         "layout": {
          "annotationdefaults": {
           "arrowcolor": "#2a3f5f",
           "arrowhead": 0,
           "arrowwidth": 1
          },
          "autotypenumbers": "strict",
          "coloraxis": {
           "colorbar": {
            "outlinewidth": 0,
            "ticks": ""
           }
          },
          "colorscale": {
           "diverging": [
            [
             0,
             "#8e0152"
            ],
            [
             0.1,
             "#c51b7d"
            ],
            [
             0.2,
             "#de77ae"
            ],
            [
             0.3,
             "#f1b6da"
            ],
            [
             0.4,
             "#fde0ef"
            ],
            [
             0.5,
             "#f7f7f7"
            ],
            [
             0.6,
             "#e6f5d0"
            ],
            [
             0.7,
             "#b8e186"
            ],
            [
             0.8,
             "#7fbc41"
            ],
            [
             0.9,
             "#4d9221"
            ],
            [
             1,
             "#276419"
            ]
           ],
           "sequential": [
            [
             0,
             "#0d0887"
            ],
            [
             0.1111111111111111,
             "#46039f"
            ],
            [
             0.2222222222222222,
             "#7201a8"
            ],
            [
             0.3333333333333333,
             "#9c179e"
            ],
            [
             0.4444444444444444,
             "#bd3786"
            ],
            [
             0.5555555555555556,
             "#d8576b"
            ],
            [
             0.6666666666666666,
             "#ed7953"
            ],
            [
             0.7777777777777778,
             "#fb9f3a"
            ],
            [
             0.8888888888888888,
             "#fdca26"
            ],
            [
             1,
             "#f0f921"
            ]
           ],
           "sequentialminus": [
            [
             0,
             "#0d0887"
            ],
            [
             0.1111111111111111,
             "#46039f"
            ],
            [
             0.2222222222222222,
             "#7201a8"
            ],
            [
             0.3333333333333333,
             "#9c179e"
            ],
            [
             0.4444444444444444,
             "#bd3786"
            ],
            [
             0.5555555555555556,
             "#d8576b"
            ],
            [
             0.6666666666666666,
             "#ed7953"
            ],
            [
             0.7777777777777778,
             "#fb9f3a"
            ],
            [
             0.8888888888888888,
             "#fdca26"
            ],
            [
             1,
             "#f0f921"
            ]
           ]
          },
          "colorway": [
           "#636efa",
           "#EF553B",
           "#00cc96",
           "#ab63fa",
           "#FFA15A",
           "#19d3f3",
           "#FF6692",
           "#B6E880",
           "#FF97FF",
           "#FECB52"
          ],
          "font": {
           "color": "#2a3f5f"
          },
          "geo": {
           "bgcolor": "white",
           "lakecolor": "white",
           "landcolor": "#E5ECF6",
           "showlakes": true,
           "showland": true,
           "subunitcolor": "white"
          },
          "hoverlabel": {
           "align": "left"
          },
          "hovermode": "closest",
          "mapbox": {
           "style": "light"
          },
          "paper_bgcolor": "white",
          "plot_bgcolor": "#E5ECF6",
          "polar": {
           "angularaxis": {
            "gridcolor": "white",
            "linecolor": "white",
            "ticks": ""
           },
           "bgcolor": "#E5ECF6",
           "radialaxis": {
            "gridcolor": "white",
            "linecolor": "white",
            "ticks": ""
           }
          },
          "scene": {
           "xaxis": {
            "backgroundcolor": "#E5ECF6",
            "gridcolor": "white",
            "gridwidth": 2,
            "linecolor": "white",
            "showbackground": true,
            "ticks": "",
            "zerolinecolor": "white"
           },
           "yaxis": {
            "backgroundcolor": "#E5ECF6",
            "gridcolor": "white",
            "gridwidth": 2,
            "linecolor": "white",
            "showbackground": true,
            "ticks": "",
            "zerolinecolor": "white"
           },
           "zaxis": {
            "backgroundcolor": "#E5ECF6",
            "gridcolor": "white",
            "gridwidth": 2,
            "linecolor": "white",
            "showbackground": true,
            "ticks": "",
            "zerolinecolor": "white"
           }
          },
          "shapedefaults": {
           "line": {
            "color": "#2a3f5f"
           }
          },
          "ternary": {
           "aaxis": {
            "gridcolor": "white",
            "linecolor": "white",
            "ticks": ""
           },
           "baxis": {
            "gridcolor": "white",
            "linecolor": "white",
            "ticks": ""
           },
           "bgcolor": "#E5ECF6",
           "caxis": {
            "gridcolor": "white",
            "linecolor": "white",
            "ticks": ""
           }
          },
          "title": {
           "x": 0.05
          },
          "xaxis": {
           "automargin": true,
           "gridcolor": "white",
           "linecolor": "white",
           "ticks": "",
           "title": {
            "standoff": 15
           },
           "zerolinecolor": "white",
           "zerolinewidth": 2
          },
          "yaxis": {
           "automargin": true,
           "gridcolor": "white",
           "linecolor": "white",
           "ticks": "",
           "title": {
            "standoff": 15
           },
           "zerolinecolor": "white",
           "zerolinewidth": 2
          }
         }
        },
        "title": {
         "text": "Top Rated Products by Category"
        },
        "xaxis": {
         "anchor": "y",
         "domain": [
          0,
          1
         ],
         "title": {
          "text": "Rating Count"
         }
        },
        "yaxis": {
         "anchor": "x",
         "categoryarray": [
          "Redmi 9A Sport (Coral Green, 3GB RAM, 32GB Storage) | 2GHz Octa-core Helio G25 Processor | 5000 mAh Battery",
          "Redmi 9A Sport (Carbon Black, 2GB RAM, 32GB Storage) | 2GHz Octa-core Helio G25 Processor | 5000 mAh Battery",
          "Redmi 9 Activ (Carbon Black, 4GB RAM, 64GB Storage) | Octa-core Helio G35 | 5000 mAh Battery",
          "Redmi 9A Sport (Coral Green, 2GB RAM, 32GB Storage) | 2GHz Octa-core Helio G25 Processor | 5000 mAh Battery",
          "boAt BassHeads 100 in-Ear Wired Headphones with Mic (Black)",
          "boAt Bassheads 100 in Ear Wired Earphones with Mic(Furious Red)",
          "boAt Bassheads 100 in Ear Wired Earphones with Mic(Taffy Pink)",
          "Amazon Basics High-Speed HDMI Cable, 6 Feet (2-Pack),Black",
          "AmazonBasics Flexible Premium HDMI Cable (Black, 4K@60Hz, 18Gbps), 3-Foot",
          "Amazon Basics High-Speed HDMI Cable, 6 Feet - Supports Ethernet, 3D, 4K video,Black"
         ],
         "categoryorder": "array",
         "domain": [
          0,
          1
         ],
         "title": {
          "text": "Product Name"
         }
        }
       }
      }
     },
     "metadata": {},
     "output_type": "display_data"
    }
   ],
   "source": [
    "# bar plot for top rated product by category\n",
    "\n",
    "fig2 = px.bar(data_frame=top_products_by_category,\n",
    "              x='rating_count',\n",
    "              y='product_name',\n",
    "              color='category',\n",
    "              title='Top Rated Products by Category',\n",
    "              orientation='h',\n",
    "              category_orders={\"product_name\": top_products_by_category[\"product_name\"].tolist()}\n",
    "              )\n",
    "\n",
    "fig2.update_layout(yaxis_title='Product Name', xaxis_title='Rating Count',height= 600, showlegend=True, legend=dict(\n",
    "        title=\"Categories\",\n",
    "        orientation=\"h\",  # Horizontal legend\n",
    "        yanchor=\"top\",  # Align to top\n",
    "        y=-0.2,  # Move legend below the plot\n",
    "        xanchor=\"center\",  # Center align\n",
    "        x=-0.2 \n",
    "    )\n",
    ")\n",
    "fig2.show()"
   ]
  },
  {
   "cell_type": "markdown",
   "metadata": {},
   "source": [
    "- **Amazon Basics HDMI cables(426.973k)**, **boAt Bassheads earphones(363.713k)**, and **Redmi 9A Sport/9 Activ smartphones(313.836k)** are the top-rated products in their respective categories.\n",
    "- High Rating count suggests strong demand for these products."
   ]
  },
  {
   "cell_type": "markdown",
   "metadata": {},
   "source": [
    "#### **Q3: What is the distribution of discounted prices vs. actual prices?**"
   ]
  },
  {
   "cell_type": "code",
   "execution_count": 125,
   "metadata": {},
   "outputs": [
    {
     "name": "stdout",
     "output_type": "stream",
     "text": [
      "\n",
      "Distribution of discounted prices vs. actual prices\n"
     ]
    },
    {
     "data": {
      "application/vnd.plotly.v1+json": {
       "config": {
        "plotlyServerURL": "https://plot.ly"
       },
       "data": [
        {
         "bingroup": "x",
         "hovertemplate": "variable=discounted_price<br>value=%{x}<br>count=%{y}<extra></extra>",
         "legendgroup": "discounted_price",
         "marker": {
          "color": "#636efa",
          "opacity": 0.5,
          "pattern": {
           "shape": ""
          }
         },
         "name": "discounted_price",
         "orientation": "v",
         "showlegend": true,
         "type": "histogram",
         "x": {
          "bdata": "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",
          "dtype": "f8"
         },
         "xaxis": "x",
         "yaxis": "y"
        },
        {
         "bingroup": "x",
         "hovertemplate": "variable=actual_price<br>value=%{x}<br>count=%{y}<extra></extra>",
         "legendgroup": "actual_price",
         "marker": {
          "color": "#EF553B",
          "opacity": 0.5,
          "pattern": {
           "shape": ""
          }
         },
         "name": "actual_price",
         "orientation": "v",
         "showlegend": true,
         "type": "histogram",
         "x": {
          "bdata": "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",
          "dtype": "f8"
         },
         "xaxis": "x",
         "yaxis": "y"
        }
       ],
       "layout": {
        "barmode": "overlay",
        "legend": {
         "title": {
          "text": "Prices"
         },
         "tracegroupgap": 0
        },
        "template": {
         "data": {
          "bar": [
           {
            "error_x": {
             "color": "#2a3f5f"
            },
            "error_y": {
             "color": "#2a3f5f"
            },
            "marker": {
             "line": {
              "color": "#E5ECF6",
              "width": 0.5
             },
             "pattern": {
              "fillmode": "overlay",
              "size": 10,
              "solidity": 0.2
             }
            },
            "type": "bar"
           }
          ],
          "barpolar": [
           {
            "marker": {
             "line": {
              "color": "#E5ECF6",
              "width": 0.5
             },
             "pattern": {
              "fillmode": "overlay",
              "size": 10,
              "solidity": 0.2
             }
            },
            "type": "barpolar"
           }
          ],
          "carpet": [
           {
            "aaxis": {
             "endlinecolor": "#2a3f5f",
             "gridcolor": "white",
             "linecolor": "white",
             "minorgridcolor": "white",
             "startlinecolor": "#2a3f5f"
            },
            "baxis": {
             "endlinecolor": "#2a3f5f",
             "gridcolor": "white",
             "linecolor": "white",
             "minorgridcolor": "white",
             "startlinecolor": "#2a3f5f"
            },
            "type": "carpet"
           }
          ],
          "choropleth": [
           {
            "colorbar": {
             "outlinewidth": 0,
             "ticks": ""
            },
            "type": "choropleth"
           }
          ],
          "contour": [
           {
            "colorbar": {
             "outlinewidth": 0,
             "ticks": ""
            },
            "colorscale": [
             [
              0,
              "#0d0887"
             ],
             [
              0.1111111111111111,
              "#46039f"
             ],
             [
              0.2222222222222222,
              "#7201a8"
             ],
             [
              0.3333333333333333,
              "#9c179e"
             ],
             [
              0.4444444444444444,
              "#bd3786"
             ],
             [
              0.5555555555555556,
              "#d8576b"
             ],
             [
              0.6666666666666666,
              "#ed7953"
             ],
             [
              0.7777777777777778,
              "#fb9f3a"
             ],
             [
              0.8888888888888888,
              "#fdca26"
             ],
             [
              1,
              "#f0f921"
             ]
            ],
            "type": "contour"
           }
          ],
          "contourcarpet": [
           {
            "colorbar": {
             "outlinewidth": 0,
             "ticks": ""
            },
            "type": "contourcarpet"
           }
          ],
          "heatmap": [
           {
            "colorbar": {
             "outlinewidth": 0,
             "ticks": ""
            },
            "colorscale": [
             [
              0,
              "#0d0887"
             ],
             [
              0.1111111111111111,
              "#46039f"
             ],
             [
              0.2222222222222222,
              "#7201a8"
             ],
             [
              0.3333333333333333,
              "#9c179e"
             ],
             [
              0.4444444444444444,
              "#bd3786"
             ],
             [
              0.5555555555555556,
              "#d8576b"
             ],
             [
              0.6666666666666666,
              "#ed7953"
             ],
             [
              0.7777777777777778,
              "#fb9f3a"
             ],
             [
              0.8888888888888888,
              "#fdca26"
             ],
             [
              1,
              "#f0f921"
             ]
            ],
            "type": "heatmap"
           }
          ],
          "histogram": [
           {
            "marker": {
             "pattern": {
              "fillmode": "overlay",
              "size": 10,
              "solidity": 0.2
             }
            },
            "type": "histogram"
           }
          ],
          "histogram2d": [
           {
            "colorbar": {
             "outlinewidth": 0,
             "ticks": ""
            },
            "colorscale": [
             [
              0,
              "#0d0887"
             ],
             [
              0.1111111111111111,
              "#46039f"
             ],
             [
              0.2222222222222222,
              "#7201a8"
             ],
             [
              0.3333333333333333,
              "#9c179e"
             ],
             [
              0.4444444444444444,
              "#bd3786"
             ],
             [
              0.5555555555555556,
              "#d8576b"
             ],
             [
              0.6666666666666666,
              "#ed7953"
             ],
             [
              0.7777777777777778,
              "#fb9f3a"
             ],
             [
              0.8888888888888888,
              "#fdca26"
             ],
             [
              1,
              "#f0f921"
             ]
            ],
            "type": "histogram2d"
           }
          ],
          "histogram2dcontour": [
           {
            "colorbar": {
             "outlinewidth": 0,
             "ticks": ""
            },
            "colorscale": [
             [
              0,
              "#0d0887"
             ],
             [
              0.1111111111111111,
              "#46039f"
             ],
             [
              0.2222222222222222,
              "#7201a8"
             ],
             [
              0.3333333333333333,
              "#9c179e"
             ],
             [
              0.4444444444444444,
              "#bd3786"
             ],
             [
              0.5555555555555556,
              "#d8576b"
             ],
             [
              0.6666666666666666,
              "#ed7953"
             ],
             [
              0.7777777777777778,
              "#fb9f3a"
             ],
             [
              0.8888888888888888,
              "#fdca26"
             ],
             [
              1,
              "#f0f921"
             ]
            ],
            "type": "histogram2dcontour"
           }
          ],
          "mesh3d": [
           {
            "colorbar": {
             "outlinewidth": 0,
             "ticks": ""
            },
            "type": "mesh3d"
           }
          ],
          "parcoords": [
           {
            "line": {
             "colorbar": {
              "outlinewidth": 0,
              "ticks": ""
             }
            },
            "type": "parcoords"
           }
          ],
          "pie": [
           {
            "automargin": true,
            "type": "pie"
           }
          ],
          "scatter": [
           {
            "fillpattern": {
             "fillmode": "overlay",
             "size": 10,
             "solidity": 0.2
            },
            "type": "scatter"
           }
          ],
          "scatter3d": [
           {
            "line": {
             "colorbar": {
              "outlinewidth": 0,
              "ticks": ""
             }
            },
            "marker": {
             "colorbar": {
              "outlinewidth": 0,
              "ticks": ""
             }
            },
            "type": "scatter3d"
           }
          ],
          "scattercarpet": [
           {
            "marker": {
             "colorbar": {
              "outlinewidth": 0,
              "ticks": ""
             }
            },
            "type": "scattercarpet"
           }
          ],
          "scattergeo": [
           {
            "marker": {
             "colorbar": {
              "outlinewidth": 0,
              "ticks": ""
             }
            },
            "type": "scattergeo"
           }
          ],
          "scattergl": [
           {
            "marker": {
             "colorbar": {
              "outlinewidth": 0,
              "ticks": ""
             }
            },
            "type": "scattergl"
           }
          ],
          "scattermap": [
           {
            "marker": {
             "colorbar": {
              "outlinewidth": 0,
              "ticks": ""
             }
            },
            "type": "scattermap"
           }
          ],
          "scattermapbox": [
           {
            "marker": {
             "colorbar": {
              "outlinewidth": 0,
              "ticks": ""
             }
            },
            "type": "scattermapbox"
           }
          ],
          "scatterpolar": [
           {
            "marker": {
             "colorbar": {
              "outlinewidth": 0,
              "ticks": ""
             }
            },
            "type": "scatterpolar"
           }
          ],
          "scatterpolargl": [
           {
            "marker": {
             "colorbar": {
              "outlinewidth": 0,
              "ticks": ""
             }
            },
            "type": "scatterpolargl"
           }
          ],
          "scatterternary": [
           {
            "marker": {
             "colorbar": {
              "outlinewidth": 0,
              "ticks": ""
             }
            },
            "type": "scatterternary"
           }
          ],
          "surface": [
           {
            "colorbar": {
             "outlinewidth": 0,
             "ticks": ""
            },
            "colorscale": [
             [
              0,
              "#0d0887"
             ],
             [
              0.1111111111111111,
              "#46039f"
             ],
             [
              0.2222222222222222,
              "#7201a8"
             ],
             [
              0.3333333333333333,
              "#9c179e"
             ],
             [
              0.4444444444444444,
              "#bd3786"
             ],
             [
              0.5555555555555556,
              "#d8576b"
             ],
             [
              0.6666666666666666,
              "#ed7953"
             ],
             [
              0.7777777777777778,
              "#fb9f3a"
             ],
             [
              0.8888888888888888,
              "#fdca26"
             ],
             [
              1,
              "#f0f921"
             ]
            ],
            "type": "surface"
           }
          ],
          "table": [
           {
            "cells": {
             "fill": {
              "color": "#EBF0F8"
             },
             "line": {
              "color": "white"
             }
            },
            "header": {
             "fill": {
              "color": "#C8D4E3"
             },
             "line": {
              "color": "white"
             }
            },
            "type": "table"
           }
          ]
         },
         "layout": {
          "annotationdefaults": {
           "arrowcolor": "#2a3f5f",
           "arrowhead": 0,
           "arrowwidth": 1
          },
          "autotypenumbers": "strict",
          "coloraxis": {
           "colorbar": {
            "outlinewidth": 0,
            "ticks": ""
           }
          },
          "colorscale": {
           "diverging": [
            [
             0,
             "#8e0152"
            ],
            [
             0.1,
             "#c51b7d"
            ],
            [
             0.2,
             "#de77ae"
            ],
            [
             0.3,
             "#f1b6da"
            ],
            [
             0.4,
             "#fde0ef"
            ],
            [
             0.5,
             "#f7f7f7"
            ],
            [
             0.6,
             "#e6f5d0"
            ],
            [
             0.7,
             "#b8e186"
            ],
            [
             0.8,
             "#7fbc41"
            ],
            [
             0.9,
             "#4d9221"
            ],
            [
             1,
             "#276419"
            ]
           ],
           "sequential": [
            [
             0,
             "#0d0887"
            ],
            [
             0.1111111111111111,
             "#46039f"
            ],
            [
             0.2222222222222222,
             "#7201a8"
            ],
            [
             0.3333333333333333,
             "#9c179e"
            ],
            [
             0.4444444444444444,
             "#bd3786"
            ],
            [
             0.5555555555555556,
             "#d8576b"
            ],
            [
             0.6666666666666666,
             "#ed7953"
            ],
            [
             0.7777777777777778,
             "#fb9f3a"
            ],
            [
             0.8888888888888888,
             "#fdca26"
            ],
            [
             1,
             "#f0f921"
            ]
           ],
           "sequentialminus": [
            [
             0,
             "#0d0887"
            ],
            [
             0.1111111111111111,
             "#46039f"
            ],
            [
             0.2222222222222222,
             "#7201a8"
            ],
            [
             0.3333333333333333,
             "#9c179e"
            ],
            [
             0.4444444444444444,
             "#bd3786"
            ],
            [
             0.5555555555555556,
             "#d8576b"
            ],
            [
             0.6666666666666666,
             "#ed7953"
            ],
            [
             0.7777777777777778,
             "#fb9f3a"
            ],
            [
             0.8888888888888888,
             "#fdca26"
            ],
            [
             1,
             "#f0f921"
            ]
           ]
          },
          "colorway": [
           "#636efa",
           "#EF553B",
           "#00cc96",
           "#ab63fa",
           "#FFA15A",
           "#19d3f3",
           "#FF6692",
           "#B6E880",
           "#FF97FF",
           "#FECB52"
          ],
          "font": {
           "color": "#2a3f5f"
          },
          "geo": {
           "bgcolor": "white",
           "lakecolor": "white",
           "landcolor": "#E5ECF6",
           "showlakes": true,
           "showland": true,
           "subunitcolor": "white"
          },
          "hoverlabel": {
           "align": "left"
          },
          "hovermode": "closest",
          "mapbox": {
           "style": "light"
          },
          "paper_bgcolor": "white",
          "plot_bgcolor": "#E5ECF6",
          "polar": {
           "angularaxis": {
            "gridcolor": "white",
            "linecolor": "white",
            "ticks": ""
           },
           "bgcolor": "#E5ECF6",
           "radialaxis": {
            "gridcolor": "white",
            "linecolor": "white",
            "ticks": ""
           }
          },
          "scene": {
           "xaxis": {
            "backgroundcolor": "#E5ECF6",
            "gridcolor": "white",
            "gridwidth": 2,
            "linecolor": "white",
            "showbackground": true,
            "ticks": "",
            "zerolinecolor": "white"
           },
           "yaxis": {
            "backgroundcolor": "#E5ECF6",
            "gridcolor": "white",
            "gridwidth": 2,
            "linecolor": "white",
            "showbackground": true,
            "ticks": "",
            "zerolinecolor": "white"
           },
           "zaxis": {
            "backgroundcolor": "#E5ECF6",
            "gridcolor": "white",
            "gridwidth": 2,
            "linecolor": "white",
            "showbackground": true,
            "ticks": "",
            "zerolinecolor": "white"
           }
          },
          "shapedefaults": {
           "line": {
            "color": "#2a3f5f"
           }
          },
          "ternary": {
           "aaxis": {
            "gridcolor": "white",
            "linecolor": "white",
            "ticks": ""
           },
           "baxis": {
            "gridcolor": "white",
            "linecolor": "white",
            "ticks": ""
           },
           "bgcolor": "#E5ECF6",
           "caxis": {
            "gridcolor": "white",
            "linecolor": "white",
            "ticks": ""
           }
          },
          "title": {
           "x": 0.05
          },
          "xaxis": {
           "automargin": true,
           "gridcolor": "white",
           "linecolor": "white",
           "ticks": "",
           "title": {
            "standoff": 15
           },
           "zerolinecolor": "white",
           "zerolinewidth": 2
          },
          "yaxis": {
           "automargin": true,
           "gridcolor": "white",
           "linecolor": "white",
           "ticks": "",
           "title": {
            "standoff": 15
           },
           "zerolinecolor": "white",
           "zerolinewidth": 2
          }
         }
        },
        "title": {
         "text": "Distribution of Discounted Prices vs. Actual Prices"
        },
        "xaxis": {
         "anchor": "y",
         "domain": [
          0,
          1
         ],
         "title": {
          "text": "Price"
         }
        },
        "yaxis": {
         "anchor": "x",
         "domain": [
          0,
          1
         ],
         "title": {
          "text": "Frequency"
         }
        }
       }
      }
     },
     "metadata": {},
     "output_type": "display_data"
    }
   ],
   "source": [
    "print('\\nDistribution of discounted prices vs. actual prices')\n",
    "\n",
    "fig3 = px.histogram(amazon_sales, x=['discounted_price', 'actual_price'], barmode='overlay', \n",
    "                    title='Distribution of Discounted Prices vs. Actual Prices')\n",
    "fig3.update_layout(xaxis_title='Price', yaxis_title='Frequency', legend=dict(title=\"Prices\"))\n",
    "fig3.show()\n"
   ]
  },
  {
   "cell_type": "markdown",
   "metadata": {},
   "source": [
    "- The histogram shows that most products have **lower prices**, with both **actual** and **discounted** prices skewed towards the **lower end**. \n",
    "- Discounted prices (blue) are generally **lower** than actual prices (red), indicating that products are generally being sold at a discount.\n",
    "- Few high-priced products exist, but they are rare. \n",
    "- The overlap suggests some items have minimal or no discounts."
   ]
  },
  {
   "cell_type": "markdown",
   "metadata": {},
   "source": [
    "#### **Q4: How does the average discount percentage vary across the top 10 discounted categories??**"
   ]
  },
  {
   "cell_type": "code",
   "execution_count": 126,
   "metadata": {},
   "outputs": [
    {
     "data": {
      "text/html": [
       "<div>\n",
       "<style scoped>\n",
       "    .dataframe tbody tr th:only-of-type {\n",
       "        vertical-align: middle;\n",
       "    }\n",
       "\n",
       "    .dataframe tbody tr th {\n",
       "        vertical-align: top;\n",
       "    }\n",
       "\n",
       "    .dataframe thead th {\n",
       "        text-align: right;\n",
       "    }\n",
       "</style>\n",
       "<table border=\"1\" class=\"dataframe\">\n",
       "  <thead>\n",
       "    <tr style=\"text-align: right;\">\n",
       "      <th></th>\n",
       "      <th>category</th>\n",
       "      <th>discount_percentage</th>\n",
       "    </tr>\n",
       "  </thead>\n",
       "  <tbody>\n",
       "    <tr>\n",
       "      <th>6</th>\n",
       "      <td>Computers&amp;Accessories|Accessories&amp;Peripherals|...</td>\n",
       "      <td>90.0</td>\n",
       "    </tr>\n",
       "    <tr>\n",
       "      <th>75</th>\n",
       "      <td>Electronics|Headphones,Earbuds&amp;Accessories|Ear...</td>\n",
       "      <td>90.0</td>\n",
       "    </tr>\n",
       "    <tr>\n",
       "      <th>106</th>\n",
       "      <td>Electronics|Mobiles&amp;Accessories|MobileAccessor...</td>\n",
       "      <td>90.0</td>\n",
       "    </tr>\n",
       "    <tr>\n",
       "      <th>73</th>\n",
       "      <td>Electronics|Headphones,Earbuds&amp;Accessories|Ada...</td>\n",
       "      <td>88.0</td>\n",
       "    </tr>\n",
       "    <tr>\n",
       "      <th>14</th>\n",
       "      <td>Computers&amp;Accessories|Accessories&amp;Peripherals|...</td>\n",
       "      <td>87.5</td>\n",
       "    </tr>\n",
       "    <tr>\n",
       "      <th>110</th>\n",
       "      <td>Electronics|Mobiles&amp;Accessories|MobileAccessor...</td>\n",
       "      <td>82.0</td>\n",
       "    </tr>\n",
       "    <tr>\n",
       "      <th>36</th>\n",
       "      <td>Computers&amp;Accessories|Components|InternalHardD...</td>\n",
       "      <td>80.0</td>\n",
       "    </tr>\n",
       "    <tr>\n",
       "      <th>1</th>\n",
       "      <td>Computers&amp;Accessories|Accessories&amp;Peripherals|...</td>\n",
       "      <td>78.5</td>\n",
       "    </tr>\n",
       "    <tr>\n",
       "      <th>114</th>\n",
       "      <td>Electronics|Mobiles&amp;Accessories|MobileAccessor...</td>\n",
       "      <td>76.4</td>\n",
       "    </tr>\n",
       "    <tr>\n",
       "      <th>74</th>\n",
       "      <td>Electronics|Headphones,Earbuds&amp;Accessories|Cases</td>\n",
       "      <td>76.0</td>\n",
       "    </tr>\n",
       "  </tbody>\n",
       "</table>\n",
       "</div>"
      ],
      "text/plain": [
       "                                              category  discount_percentage\n",
       "6    Computers&Accessories|Accessories&Peripherals|...                 90.0\n",
       "75   Electronics|Headphones,Earbuds&Accessories|Ear...                 90.0\n",
       "106  Electronics|Mobiles&Accessories|MobileAccessor...                 90.0\n",
       "73   Electronics|Headphones,Earbuds&Accessories|Ada...                 88.0\n",
       "14   Computers&Accessories|Accessories&Peripherals|...                 87.5\n",
       "110  Electronics|Mobiles&Accessories|MobileAccessor...                 82.0\n",
       "36   Computers&Accessories|Components|InternalHardD...                 80.0\n",
       "1    Computers&Accessories|Accessories&Peripherals|...                 78.5\n",
       "114  Electronics|Mobiles&Accessories|MobileAccessor...                 76.4\n",
       "74    Electronics|Headphones,Earbuds&Accessories|Cases                 76.0"
      ]
     },
     "execution_count": 126,
     "metadata": {},
     "output_type": "execute_result"
    }
   ],
   "source": [
    "category_avg_discount = amazon_sales.groupby('category')['discount_percentage'].mean().reset_index()\n",
    "top_discounted_categories = category_avg_discount.nlargest(10, 'discount_percentage').sort_values(by='discount_percentage', ascending=False)\n",
    "top_discounted_categories"
   ]
  },
  {
   "cell_type": "code",
   "execution_count": 127,
   "metadata": {},
   "outputs": [
    {
     "data": {
      "application/vnd.plotly.v1+json": {
       "config": {
        "plotlyServerURL": "https://plot.ly"
       },
       "data": [
        {
         "hovertemplate": "category=%{y}<br>discount_percentage=%{x}<extra></extra>",
         "legendgroup": "Computers&Accessories|Accessories&Peripherals|Cables&Accessories|CableConnectionProtectors",
         "marker": {
          "color": "#636efa",
          "pattern": {
           "shape": ""
          }
         },
         "name": "Computers&Accessories|Accessories&Peripherals|Cables&Accessories|CableConnectionProtectors",
         "orientation": "h",
         "showlegend": true,
         "textposition": "auto",
         "type": "bar",
         "x": {
          "bdata": "AAAAAACAVkA=",
          "dtype": "f8"
         },
         "xaxis": "x",
         "y": [
          "Computers&Accessories|Accessories&Peripherals|Cables&Accessories|CableConnectionProtectors"
         ],
         "yaxis": "y"
        },
        {
         "hovertemplate": "category=%{y}<br>discount_percentage=%{x}<extra></extra>",
         "legendgroup": "Electronics|Headphones,Earbuds&Accessories|Earpads",
         "marker": {
          "color": "#EF553B",
          "pattern": {
           "shape": ""
          }
         },
         "name": "Electronics|Headphones,Earbuds&Accessories|Earpads",
         "orientation": "h",
         "showlegend": true,
         "textposition": "auto",
         "type": "bar",
         "x": {
          "bdata": "AAAAAACAVkA=",
          "dtype": "f8"
         },
         "xaxis": "x",
         "y": [
          "Electronics|Headphones,Earbuds&Accessories|Earpads"
         ],
         "yaxis": "y"
        },
        {
         "hovertemplate": "category=%{y}<br>discount_percentage=%{x}<extra></extra>",
         "legendgroup": "Electronics|Mobiles&Accessories|MobileAccessories|Décor|PhoneCharms",
         "marker": {
          "color": "#00cc96",
          "pattern": {
           "shape": ""
          }
         },
         "name": "Electronics|Mobiles&Accessories|MobileAccessories|Décor|PhoneCharms",
         "orientation": "h",
         "showlegend": true,
         "textposition": "auto",
         "type": "bar",
         "x": {
          "bdata": "AAAAAACAVkA=",
          "dtype": "f8"
         },
         "xaxis": "x",
         "y": [
          "Electronics|Mobiles&Accessories|MobileAccessories|Décor|PhoneCharms"
         ],
         "yaxis": "y"
        },
        {
         "hovertemplate": "category=%{y}<br>discount_percentage=%{x}<extra></extra>",
         "legendgroup": "Electronics|Headphones,Earbuds&Accessories|Adapters",
         "marker": {
          "color": "#ab63fa",
          "pattern": {
           "shape": ""
          }
         },
         "name": "Electronics|Headphones,Earbuds&Accessories|Adapters",
         "orientation": "h",
         "showlegend": true,
         "textposition": "auto",
         "type": "bar",
         "x": {
          "bdata": "AAAAAAAAVkA=",
          "dtype": "f8"
         },
         "xaxis": "x",
         "y": [
          "Electronics|Headphones,Earbuds&Accessories|Adapters"
         ],
         "yaxis": "y"
        },
        {
         "hovertemplate": "category=%{y}<br>discount_percentage=%{x}<extra></extra>",
         "legendgroup": "Computers&Accessories|Accessories&Peripherals|Keyboards,Mice&InputDevices|Keyboard&MiceAccessories|DustCovers",
         "marker": {
          "color": "#FFA15A",
          "pattern": {
           "shape": ""
          }
         },
         "name": "Computers&Accessories|Accessories&Peripherals|Keyboards,Mice&InputDevices|Keyboard&MiceAccessories|DustCovers",
         "orientation": "h",
         "showlegend": true,
         "textposition": "auto",
         "type": "bar",
         "x": {
          "bdata": "AAAAAADgVUA=",
          "dtype": "f8"
         },
         "xaxis": "x",
         "y": [
          "Computers&Accessories|Accessories&Peripherals|Keyboards,Mice&InputDevices|Keyboard&MiceAccessories|DustCovers"
         ],
         "yaxis": "y"
        },
        {
         "hovertemplate": "category=%{y}<br>discount_percentage=%{x}<extra></extra>",
         "legendgroup": "Electronics|Mobiles&Accessories|MobileAccessories|Mounts|Shower&WallMounts",
         "marker": {
          "color": "#19d3f3",
          "pattern": {
           "shape": ""
          }
         },
         "name": "Electronics|Mobiles&Accessories|MobileAccessories|Mounts|Shower&WallMounts",
         "orientation": "h",
         "showlegend": true,
         "textposition": "auto",
         "type": "bar",
         "x": {
          "bdata": "AAAAAACAVEA=",
          "dtype": "f8"
         },
         "xaxis": "x",
         "y": [
          "Electronics|Mobiles&Accessories|MobileAccessories|Mounts|Shower&WallMounts"
         ],
         "yaxis": "y"
        },
        {
         "hovertemplate": "category=%{y}<br>discount_percentage=%{x}<extra></extra>",
         "legendgroup": "Computers&Accessories|Components|InternalHardDrives",
         "marker": {
          "color": "#FF6692",
          "pattern": {
           "shape": ""
          }
         },
         "name": "Computers&Accessories|Components|InternalHardDrives",
         "orientation": "h",
         "showlegend": true,
         "textposition": "auto",
         "type": "bar",
         "x": {
          "bdata": "AAAAAAAAVEA=",
          "dtype": "f8"
         },
         "xaxis": "x",
         "y": [
          "Computers&Accessories|Components|InternalHardDrives"
         ],
         "yaxis": "y"
        },
        {
         "hovertemplate": "category=%{y}<br>discount_percentage=%{x}<extra></extra>",
         "legendgroup": "Computers&Accessories|Accessories&Peripherals|Adapters|USBtoUSBAdapters",
         "marker": {
          "color": "#B6E880",
          "pattern": {
           "shape": ""
          }
         },
         "name": "Computers&Accessories|Accessories&Peripherals|Adapters|USBtoUSBAdapters",
         "orientation": "h",
         "showlegend": true,
         "textposition": "auto",
         "type": "bar",
         "x": {
          "bdata": "AAAAAACgU0A=",
          "dtype": "f8"
         },
         "xaxis": "x",
         "y": [
          "Computers&Accessories|Accessories&Peripherals|Adapters|USBtoUSBAdapters"
         ],
         "yaxis": "y"
        },
        {
         "hovertemplate": "category=%{y}<br>discount_percentage=%{x}<extra></extra>",
         "legendgroup": "Electronics|Mobiles&Accessories|MobileAccessories|Stands",
         "marker": {
          "color": "#FF97FF",
          "pattern": {
           "shape": ""
          }
         },
         "name": "Electronics|Mobiles&Accessories|MobileAccessories|Stands",
         "orientation": "h",
         "showlegend": true,
         "textposition": "auto",
         "type": "bar",
         "x": {
          "bdata": "mpmZmZkZU0A=",
          "dtype": "f8"
         },
         "xaxis": "x",
         "y": [
          "Electronics|Mobiles&Accessories|MobileAccessories|Stands"
         ],
         "yaxis": "y"
        },
        {
         "hovertemplate": "category=%{y}<br>discount_percentage=%{x}<extra></extra>",
         "legendgroup": "Electronics|Headphones,Earbuds&Accessories|Cases",
         "marker": {
          "color": "#FECB52",
          "pattern": {
           "shape": ""
          }
         },
         "name": "Electronics|Headphones,Earbuds&Accessories|Cases",
         "orientation": "h",
         "showlegend": true,
         "textposition": "auto",
         "type": "bar",
         "x": {
          "bdata": "AAAAAAAAU0A=",
          "dtype": "f8"
         },
         "xaxis": "x",
         "y": [
          "Electronics|Headphones,Earbuds&Accessories|Cases"
         ],
         "yaxis": "y"
        }
       ],
       "layout": {
        "barmode": "relative",
        "height": 800,
        "legend": {
         "title": {
          "text": "category"
         },
         "tracegroupgap": 0
        },
        "showlegend": false,
        "template": {
         "data": {
          "bar": [
           {
            "error_x": {
             "color": "#2a3f5f"
            },
            "error_y": {
             "color": "#2a3f5f"
            },
            "marker": {
             "line": {
              "color": "#E5ECF6",
              "width": 0.5
             },
             "pattern": {
              "fillmode": "overlay",
              "size": 10,
              "solidity": 0.2
             }
            },
            "type": "bar"
           }
          ],
          "barpolar": [
           {
            "marker": {
             "line": {
              "color": "#E5ECF6",
              "width": 0.5
             },
             "pattern": {
              "fillmode": "overlay",
              "size": 10,
              "solidity": 0.2
             }
            },
            "type": "barpolar"
           }
          ],
          "carpet": [
           {
            "aaxis": {
             "endlinecolor": "#2a3f5f",
             "gridcolor": "white",
             "linecolor": "white",
             "minorgridcolor": "white",
             "startlinecolor": "#2a3f5f"
            },
            "baxis": {
             "endlinecolor": "#2a3f5f",
             "gridcolor": "white",
             "linecolor": "white",
             "minorgridcolor": "white",
             "startlinecolor": "#2a3f5f"
            },
            "type": "carpet"
           }
          ],
          "choropleth": [
           {
            "colorbar": {
             "outlinewidth": 0,
             "ticks": ""
            },
            "type": "choropleth"
           }
          ],
          "contour": [
           {
            "colorbar": {
             "outlinewidth": 0,
             "ticks": ""
            },
            "colorscale": [
             [
              0,
              "#0d0887"
             ],
             [
              0.1111111111111111,
              "#46039f"
             ],
             [
              0.2222222222222222,
              "#7201a8"
             ],
             [
              0.3333333333333333,
              "#9c179e"
             ],
             [
              0.4444444444444444,
              "#bd3786"
             ],
             [
              0.5555555555555556,
              "#d8576b"
             ],
             [
              0.6666666666666666,
              "#ed7953"
             ],
             [
              0.7777777777777778,
              "#fb9f3a"
             ],
             [
              0.8888888888888888,
              "#fdca26"
             ],
             [
              1,
              "#f0f921"
             ]
            ],
            "type": "contour"
           }
          ],
          "contourcarpet": [
           {
            "colorbar": {
             "outlinewidth": 0,
             "ticks": ""
            },
            "type": "contourcarpet"
           }
          ],
          "heatmap": [
           {
            "colorbar": {
             "outlinewidth": 0,
             "ticks": ""
            },
            "colorscale": [
             [
              0,
              "#0d0887"
             ],
             [
              0.1111111111111111,
              "#46039f"
             ],
             [
              0.2222222222222222,
              "#7201a8"
             ],
             [
              0.3333333333333333,
              "#9c179e"
             ],
             [
              0.4444444444444444,
              "#bd3786"
             ],
             [
              0.5555555555555556,
              "#d8576b"
             ],
             [
              0.6666666666666666,
              "#ed7953"
             ],
             [
              0.7777777777777778,
              "#fb9f3a"
             ],
             [
              0.8888888888888888,
              "#fdca26"
             ],
             [
              1,
              "#f0f921"
             ]
            ],
            "type": "heatmap"
           }
          ],
          "histogram": [
           {
            "marker": {
             "pattern": {
              "fillmode": "overlay",
              "size": 10,
              "solidity": 0.2
             }
            },
            "type": "histogram"
           }
          ],
          "histogram2d": [
           {
            "colorbar": {
             "outlinewidth": 0,
             "ticks": ""
            },
            "colorscale": [
             [
              0,
              "#0d0887"
             ],
             [
              0.1111111111111111,
              "#46039f"
             ],
             [
              0.2222222222222222,
              "#7201a8"
             ],
             [
              0.3333333333333333,
              "#9c179e"
             ],
             [
              0.4444444444444444,
              "#bd3786"
             ],
             [
              0.5555555555555556,
              "#d8576b"
             ],
             [
              0.6666666666666666,
              "#ed7953"
             ],
             [
              0.7777777777777778,
              "#fb9f3a"
             ],
             [
              0.8888888888888888,
              "#fdca26"
             ],
             [
              1,
              "#f0f921"
             ]
            ],
            "type": "histogram2d"
           }
          ],
          "histogram2dcontour": [
           {
            "colorbar": {
             "outlinewidth": 0,
             "ticks": ""
            },
            "colorscale": [
             [
              0,
              "#0d0887"
             ],
             [
              0.1111111111111111,
              "#46039f"
             ],
             [
              0.2222222222222222,
              "#7201a8"
             ],
             [
              0.3333333333333333,
              "#9c179e"
             ],
             [
              0.4444444444444444,
              "#bd3786"
             ],
             [
              0.5555555555555556,
              "#d8576b"
             ],
             [
              0.6666666666666666,
              "#ed7953"
             ],
             [
              0.7777777777777778,
              "#fb9f3a"
             ],
             [
              0.8888888888888888,
              "#fdca26"
             ],
             [
              1,
              "#f0f921"
             ]
            ],
            "type": "histogram2dcontour"
           }
          ],
          "mesh3d": [
           {
            "colorbar": {
             "outlinewidth": 0,
             "ticks": ""
            },
            "type": "mesh3d"
           }
          ],
          "parcoords": [
           {
            "line": {
             "colorbar": {
              "outlinewidth": 0,
              "ticks": ""
             }
            },
            "type": "parcoords"
           }
          ],
          "pie": [
           {
            "automargin": true,
            "type": "pie"
           }
          ],
          "scatter": [
           {
            "fillpattern": {
             "fillmode": "overlay",
             "size": 10,
             "solidity": 0.2
            },
            "type": "scatter"
           }
          ],
          "scatter3d": [
           {
            "line": {
             "colorbar": {
              "outlinewidth": 0,
              "ticks": ""
             }
            },
            "marker": {
             "colorbar": {
              "outlinewidth": 0,
              "ticks": ""
             }
            },
            "type": "scatter3d"
           }
          ],
          "scattercarpet": [
           {
            "marker": {
             "colorbar": {
              "outlinewidth": 0,
              "ticks": ""
             }
            },
            "type": "scattercarpet"
           }
          ],
          "scattergeo": [
           {
            "marker": {
             "colorbar": {
              "outlinewidth": 0,
              "ticks": ""
             }
            },
            "type": "scattergeo"
           }
          ],
          "scattergl": [
           {
            "marker": {
             "colorbar": {
              "outlinewidth": 0,
              "ticks": ""
             }
            },
            "type": "scattergl"
           }
          ],
          "scattermap": [
           {
            "marker": {
             "colorbar": {
              "outlinewidth": 0,
              "ticks": ""
             }
            },
            "type": "scattermap"
           }
          ],
          "scattermapbox": [
           {
            "marker": {
             "colorbar": {
              "outlinewidth": 0,
              "ticks": ""
             }
            },
            "type": "scattermapbox"
           }
          ],
          "scatterpolar": [
           {
            "marker": {
             "colorbar": {
              "outlinewidth": 0,
              "ticks": ""
             }
            },
            "type": "scatterpolar"
           }
          ],
          "scatterpolargl": [
           {
            "marker": {
             "colorbar": {
              "outlinewidth": 0,
              "ticks": ""
             }
            },
            "type": "scatterpolargl"
           }
          ],
          "scatterternary": [
           {
            "marker": {
             "colorbar": {
              "outlinewidth": 0,
              "ticks": ""
             }
            },
            "type": "scatterternary"
           }
          ],
          "surface": [
           {
            "colorbar": {
             "outlinewidth": 0,
             "ticks": ""
            },
            "colorscale": [
             [
              0,
              "#0d0887"
             ],
             [
              0.1111111111111111,
              "#46039f"
             ],
             [
              0.2222222222222222,
              "#7201a8"
             ],
             [
              0.3333333333333333,
              "#9c179e"
             ],
             [
              0.4444444444444444,
              "#bd3786"
             ],
             [
              0.5555555555555556,
              "#d8576b"
             ],
             [
              0.6666666666666666,
              "#ed7953"
             ],
             [
              0.7777777777777778,
              "#fb9f3a"
             ],
             [
              0.8888888888888888,
              "#fdca26"
             ],
             [
              1,
              "#f0f921"
             ]
            ],
            "type": "surface"
           }
          ],
          "table": [
           {
            "cells": {
             "fill": {
              "color": "#EBF0F8"
             },
             "line": {
              "color": "white"
             }
            },
            "header": {
             "fill": {
              "color": "#C8D4E3"
             },
             "line": {
              "color": "white"
             }
            },
            "type": "table"
           }
          ]
         },
         "layout": {
          "annotationdefaults": {
           "arrowcolor": "#2a3f5f",
           "arrowhead": 0,
           "arrowwidth": 1
          },
          "autotypenumbers": "strict",
          "coloraxis": {
           "colorbar": {
            "outlinewidth": 0,
            "ticks": ""
           }
          },
          "colorscale": {
           "diverging": [
            [
             0,
             "#8e0152"
            ],
            [
             0.1,
             "#c51b7d"
            ],
            [
             0.2,
             "#de77ae"
            ],
            [
             0.3,
             "#f1b6da"
            ],
            [
             0.4,
             "#fde0ef"
            ],
            [
             0.5,
             "#f7f7f7"
            ],
            [
             0.6,
             "#e6f5d0"
            ],
            [
             0.7,
             "#b8e186"
            ],
            [
             0.8,
             "#7fbc41"
            ],
            [
             0.9,
             "#4d9221"
            ],
            [
             1,
             "#276419"
            ]
           ],
           "sequential": [
            [
             0,
             "#0d0887"
            ],
            [
             0.1111111111111111,
             "#46039f"
            ],
            [
             0.2222222222222222,
             "#7201a8"
            ],
            [
             0.3333333333333333,
             "#9c179e"
            ],
            [
             0.4444444444444444,
             "#bd3786"
            ],
            [
             0.5555555555555556,
             "#d8576b"
            ],
            [
             0.6666666666666666,
             "#ed7953"
            ],
            [
             0.7777777777777778,
             "#fb9f3a"
            ],
            [
             0.8888888888888888,
             "#fdca26"
            ],
            [
             1,
             "#f0f921"
            ]
           ],
           "sequentialminus": [
            [
             0,
             "#0d0887"
            ],
            [
             0.1111111111111111,
             "#46039f"
            ],
            [
             0.2222222222222222,
             "#7201a8"
            ],
            [
             0.3333333333333333,
             "#9c179e"
            ],
            [
             0.4444444444444444,
             "#bd3786"
            ],
            [
             0.5555555555555556,
             "#d8576b"
            ],
            [
             0.6666666666666666,
             "#ed7953"
            ],
            [
             0.7777777777777778,
             "#fb9f3a"
            ],
            [
             0.8888888888888888,
             "#fdca26"
            ],
            [
             1,
             "#f0f921"
            ]
           ]
          },
          "colorway": [
           "#636efa",
           "#EF553B",
           "#00cc96",
           "#ab63fa",
           "#FFA15A",
           "#19d3f3",
           "#FF6692",
           "#B6E880",
           "#FF97FF",
           "#FECB52"
          ],
          "font": {
           "color": "#2a3f5f"
          },
          "geo": {
           "bgcolor": "white",
           "lakecolor": "white",
           "landcolor": "#E5ECF6",
           "showlakes": true,
           "showland": true,
           "subunitcolor": "white"
          },
          "hoverlabel": {
           "align": "left"
          },
          "hovermode": "closest",
          "mapbox": {
           "style": "light"
          },
          "paper_bgcolor": "white",
          "plot_bgcolor": "#E5ECF6",
          "polar": {
           "angularaxis": {
            "gridcolor": "white",
            "linecolor": "white",
            "ticks": ""
           },
           "bgcolor": "#E5ECF6",
           "radialaxis": {
            "gridcolor": "white",
            "linecolor": "white",
            "ticks": ""
           }
          },
          "scene": {
           "xaxis": {
            "backgroundcolor": "#E5ECF6",
            "gridcolor": "white",
            "gridwidth": 2,
            "linecolor": "white",
            "showbackground": true,
            "ticks": "",
            "zerolinecolor": "white"
           },
           "yaxis": {
            "backgroundcolor": "#E5ECF6",
            "gridcolor": "white",
            "gridwidth": 2,
            "linecolor": "white",
            "showbackground": true,
            "ticks": "",
            "zerolinecolor": "white"
           },
           "zaxis": {
            "backgroundcolor": "#E5ECF6",
            "gridcolor": "white",
            "gridwidth": 2,
            "linecolor": "white",
            "showbackground": true,
            "ticks": "",
            "zerolinecolor": "white"
           }
          },
          "shapedefaults": {
           "line": {
            "color": "#2a3f5f"
           }
          },
          "ternary": {
           "aaxis": {
            "gridcolor": "white",
            "linecolor": "white",
            "ticks": ""
           },
           "baxis": {
            "gridcolor": "white",
            "linecolor": "white",
            "ticks": ""
           },
           "bgcolor": "#E5ECF6",
           "caxis": {
            "gridcolor": "white",
            "linecolor": "white",
            "ticks": ""
           }
          },
          "title": {
           "x": 0.05
          },
          "xaxis": {
           "automargin": true,
           "gridcolor": "white",
           "linecolor": "white",
           "ticks": "",
           "title": {
            "standoff": 15
           },
           "zerolinecolor": "white",
           "zerolinewidth": 2
          },
          "yaxis": {
           "automargin": true,
           "gridcolor": "white",
           "linecolor": "white",
           "ticks": "",
           "title": {
            "standoff": 15
           },
           "zerolinecolor": "white",
           "zerolinewidth": 2
          }
         }
        },
        "title": {
         "text": "Top 10 Categories with Highest Average Discounts"
        },
        "xaxis": {
         "anchor": "y",
         "domain": [
          0,
          1
         ],
         "title": {
          "text": "Average Discount Percentage (%)"
         }
        },
        "yaxis": {
         "anchor": "x",
         "categoryarray": [
          "Electronics|Headphones,Earbuds&Accessories|Cases",
          "Electronics|Mobiles&Accessories|MobileAccessories|Stands",
          "Computers&Accessories|Accessories&Peripherals|Adapters|USBtoUSBAdapters",
          "Computers&Accessories|Components|InternalHardDrives",
          "Electronics|Mobiles&Accessories|MobileAccessories|Mounts|Shower&WallMounts",
          "Computers&Accessories|Accessories&Peripherals|Keyboards,Mice&InputDevices|Keyboard&MiceAccessories|DustCovers",
          "Electronics|Headphones,Earbuds&Accessories|Adapters",
          "Electronics|Mobiles&Accessories|MobileAccessories|Décor|PhoneCharms",
          "Electronics|Headphones,Earbuds&Accessories|Earpads",
          "Computers&Accessories|Accessories&Peripherals|Cables&Accessories|CableConnectionProtectors"
         ],
         "categoryorder": "array",
         "domain": [
          0,
          1
         ],
         "title": {
          "text": "Category"
         }
        }
       }
      }
     },
     "metadata": {},
     "output_type": "display_data"
    }
   ],
   "source": [
    "# bar chart for how average discount percentage varies across top 10 discounted categories\n",
    "fig4 = px.bar(top_discounted_categories, x='discount_percentage', y='category', \n",
    "              title='Top 10 Categories with Highest Average Discounts', orientation='h', color='category')\n",
    "fig4.update_layout(xaxis_title='Average Discount Percentage (%)', yaxis_title='Category',height=800, showlegend=False)\n",
    "fig4.show()"
   ]
  },
  {
   "cell_type": "markdown",
   "metadata": {},
   "source": [
    "- **Top 3 discounted categories (90%):** Cable Connection Protectors, Earpads, Phone Charms.\n",
    "- **Electronics & Accessories** dominate, with all top 10 categories having **75%+ discounts**.\n",
    "- Likely clearance sales or bundling strategy to boost purchases."
   ]
  }
 ],
 "metadata": {
  "kernelspec": {
   "display_name": "Python 3",
   "language": "python",
   "name": "python3"
  },
  "language_info": {
   "codemirror_mode": {
    "name": "ipython",
    "version": 3
   },
   "file_extension": ".py",
   "mimetype": "text/x-python",
   "name": "python",
   "nbconvert_exporter": "python",
   "pygments_lexer": "ipython3",
   "version": "3.12.5"
  }
 },
 "nbformat": 4,
 "nbformat_minor": 2
}
